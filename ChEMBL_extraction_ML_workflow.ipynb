{
 "cells": [
  {
   "cell_type": "code",
   "execution_count": null,
   "id": "a7b2f53c-f725-4cc7-a4c4-140c70f6f278",
   "metadata": {},
   "outputs": [],
   "source": [
    "import math\n",
    "from pathlib import Path\n",
    "from zipfile import ZipFile\n",
    "from tempfile import TemporaryDirectory\n",
    "\n",
    "import numpy as np\n",
    "import pandas as pd\n",
    "from rdkit.Chem import PandasTools\n",
    "from chembl_webresource_client.new_client import new_client\n",
    "from tqdm.auto import tqdm"
   ]
  },
  {
   "cell_type": "code",
   "execution_count": 812,
   "id": "964b30c6-00c2-499f-9aad-2ed3bd2ee322",
   "metadata": {
    "tags": []
   },
   "outputs": [],
   "source": [
    "HERE = Path(_dh[-1])\n",
    "DATA = HERE / \"data\""
   ]
  },
  {
   "cell_type": "markdown",
   "id": "c6df2bb1-309a-44dc-b08e-7be9eeeb4623",
   "metadata": {},
   "source": [
    "Next, we create resource objects for API access."
   ]
  },
  {
   "cell_type": "code",
   "execution_count": 813,
   "id": "6dc1f74b-f7ab-4099-be8e-24902b1af94f",
   "metadata": {
    "tags": []
   },
   "outputs": [],
   "source": [
    "targets_api = new_client.target\n",
    "compounds_api = new_client.molecule\n",
    "bioactivities_api = new_client.activity"
   ]
  },
  {
   "cell_type": "code",
   "execution_count": 814,
   "id": "28c70b18-fd22-4033-91de-6f3d3081ad51",
   "metadata": {
    "tags": []
   },
   "outputs": [
    {
     "data": {
      "text/plain": [
       "chembl_webresource_client.query_set.QuerySet"
      ]
     },
     "execution_count": 814,
     "metadata": {},
     "output_type": "execute_result"
    }
   ],
   "source": [
    "type(targets_api)"
   ]
  },
  {
   "cell_type": "markdown",
   "id": "6548e813-693e-44df-b59d-391661d16a1e",
   "metadata": {},
   "source": [
    "### Get target data (ABL-1 kinase)\n",
    "\n",
    "* Get UniProt ID of the target of interest (ABL-1 kinase:  [P00519](http://www.uniprot.org/uniprot/P00519)) from [UniProt website](https://www.uniprot.org/)\n",
    "\n",
    "Select a different UniProt ID, if you are interested in another target."
   ]
  },
  {
   "cell_type": "code",
   "execution_count": 815,
   "id": "9dcc88a9-51d6-4cbc-b067-31dbe1fcecef",
   "metadata": {
    "tags": []
   },
   "outputs": [],
   "source": [
    "uniprot_id = \"P00519\""
   ]
  },
  {
   "cell_type": "markdown",
   "id": "cc75d72c-a730-43d9-babc-e01c5d0f7276",
   "metadata": {},
   "source": [
    "#### Fetch target data from ChEMBL"
   ]
  },
  {
   "cell_type": "code",
   "execution_count": 816,
   "id": "9c46b304-89a3-4693-8386-5d705cefbb06",
   "metadata": {
    "tags": []
   },
   "outputs": [
    {
     "data": {
      "text/html": [
       "<div>\n",
       "<style scoped>\n",
       "    .dataframe tbody tr th:only-of-type {\n",
       "        vertical-align: middle;\n",
       "    }\n",
       "\n",
       "    .dataframe tbody tr th {\n",
       "        vertical-align: top;\n",
       "    }\n",
       "\n",
       "    .dataframe thead th {\n",
       "        text-align: right;\n",
       "    }\n",
       "</style>\n",
       "<table border=\"1\" class=\"dataframe\">\n",
       "  <thead>\n",
       "    <tr style=\"text-align: right;\">\n",
       "      <th></th>\n",
       "      <th>organism</th>\n",
       "      <th>pref_name</th>\n",
       "      <th>target_chembl_id</th>\n",
       "      <th>target_type</th>\n",
       "    </tr>\n",
       "  </thead>\n",
       "  <tbody>\n",
       "    <tr>\n",
       "      <th>0</th>\n",
       "      <td>Homo sapiens</td>\n",
       "      <td>Tyrosine-protein kinase ABL</td>\n",
       "      <td>CHEMBL1862</td>\n",
       "      <td>SINGLE PROTEIN</td>\n",
       "    </tr>\n",
       "    <tr>\n",
       "      <th>1</th>\n",
       "      <td>Homo sapiens</td>\n",
       "      <td>Tyrosine-protein kinase ABL</td>\n",
       "      <td>CHEMBL1862</td>\n",
       "      <td>SINGLE PROTEIN</td>\n",
       "    </tr>\n",
       "    <tr>\n",
       "      <th>2</th>\n",
       "      <td>Homo sapiens</td>\n",
       "      <td>Bcr/Abl fusion protein</td>\n",
       "      <td>CHEMBL2096618</td>\n",
       "      <td>CHIMERIC PROTEIN</td>\n",
       "    </tr>\n",
       "    <tr>\n",
       "      <th>3</th>\n",
       "      <td>Homo sapiens</td>\n",
       "      <td>Tyrosine-protein kinase ABL</td>\n",
       "      <td>CHEMBL2111414</td>\n",
       "      <td>PROTEIN FAMILY</td>\n",
       "    </tr>\n",
       "    <tr>\n",
       "      <th>4</th>\n",
       "      <td>Homo sapiens</td>\n",
       "      <td>Ras and Rab interactor 1/Tyrosine-protein kina...</td>\n",
       "      <td>CHEMBL3885630</td>\n",
       "      <td>PROTEIN-PROTEIN INTERACTION</td>\n",
       "    </tr>\n",
       "    <tr>\n",
       "      <th>5</th>\n",
       "      <td>Homo sapiens</td>\n",
       "      <td>Transcription factor ETV6/Tyrosine-protein kin...</td>\n",
       "      <td>CHEMBL3885645</td>\n",
       "      <td>CHIMERIC PROTEIN</td>\n",
       "    </tr>\n",
       "    <tr>\n",
       "      <th>6</th>\n",
       "      <td>Homo sapiens</td>\n",
       "      <td>Baculoviral IAP repeat-containing protein 2/BC...</td>\n",
       "      <td>CHEMBL4296119</td>\n",
       "      <td>PROTEIN-PROTEIN INTERACTION</td>\n",
       "    </tr>\n",
       "    <tr>\n",
       "      <th>7</th>\n",
       "      <td>Homo sapiens</td>\n",
       "      <td>E3 ubiquitin-protein ligase XIAP/BCR/ABL</td>\n",
       "      <td>CHEMBL4296120</td>\n",
       "      <td>PROTEIN-PROTEIN INTERACTION</td>\n",
       "    </tr>\n",
       "    <tr>\n",
       "      <th>8</th>\n",
       "      <td>Homo sapiens</td>\n",
       "      <td>Cereblon/BCR/ABL</td>\n",
       "      <td>CHEMBL4296137</td>\n",
       "      <td>PROTEIN-PROTEIN INTERACTION</td>\n",
       "    </tr>\n",
       "    <tr>\n",
       "      <th>9</th>\n",
       "      <td>Homo sapiens</td>\n",
       "      <td>VHL/ABL1</td>\n",
       "      <td>CHEMBL4523725</td>\n",
       "      <td>PROTEIN-PROTEIN INTERACTION</td>\n",
       "    </tr>\n",
       "    <tr>\n",
       "      <th>10</th>\n",
       "      <td>Homo sapiens</td>\n",
       "      <td>Protein cereblon/Tyrosine-protein kinase ABL1</td>\n",
       "      <td>CHEMBL4523750</td>\n",
       "      <td>PROTEIN-PROTEIN INTERACTION</td>\n",
       "    </tr>\n",
       "    <tr>\n",
       "      <th>11</th>\n",
       "      <td>Homo sapiens</td>\n",
       "      <td>VHL/BCR-ABL1</td>\n",
       "      <td>CHEMBL4523751</td>\n",
       "      <td>PROTEIN-PROTEIN INTERACTION</td>\n",
       "    </tr>\n",
       "  </tbody>\n",
       "</table>\n",
       "</div>"
      ],
      "text/plain": [
       "        organism                                          pref_name  \\\n",
       "0   Homo sapiens                        Tyrosine-protein kinase ABL   \n",
       "1   Homo sapiens                        Tyrosine-protein kinase ABL   \n",
       "2   Homo sapiens                             Bcr/Abl fusion protein   \n",
       "3   Homo sapiens                        Tyrosine-protein kinase ABL   \n",
       "4   Homo sapiens  Ras and Rab interactor 1/Tyrosine-protein kina...   \n",
       "5   Homo sapiens  Transcription factor ETV6/Tyrosine-protein kin...   \n",
       "6   Homo sapiens  Baculoviral IAP repeat-containing protein 2/BC...   \n",
       "7   Homo sapiens           E3 ubiquitin-protein ligase XIAP/BCR/ABL   \n",
       "8   Homo sapiens                                   Cereblon/BCR/ABL   \n",
       "9   Homo sapiens                                           VHL/ABL1   \n",
       "10  Homo sapiens      Protein cereblon/Tyrosine-protein kinase ABL1   \n",
       "11  Homo sapiens                                       VHL/BCR-ABL1   \n",
       "\n",
       "   target_chembl_id                  target_type  \n",
       "0        CHEMBL1862               SINGLE PROTEIN  \n",
       "1        CHEMBL1862               SINGLE PROTEIN  \n",
       "2     CHEMBL2096618             CHIMERIC PROTEIN  \n",
       "3     CHEMBL2111414               PROTEIN FAMILY  \n",
       "4     CHEMBL3885630  PROTEIN-PROTEIN INTERACTION  \n",
       "5     CHEMBL3885645             CHIMERIC PROTEIN  \n",
       "6     CHEMBL4296119  PROTEIN-PROTEIN INTERACTION  \n",
       "7     CHEMBL4296120  PROTEIN-PROTEIN INTERACTION  \n",
       "8     CHEMBL4296137  PROTEIN-PROTEIN INTERACTION  \n",
       "9     CHEMBL4523725  PROTEIN-PROTEIN INTERACTION  \n",
       "10    CHEMBL4523750  PROTEIN-PROTEIN INTERACTION  \n",
       "11    CHEMBL4523751  PROTEIN-PROTEIN INTERACTION  "
      ]
     },
     "execution_count": 816,
     "metadata": {},
     "output_type": "execute_result"
    }
   ],
   "source": [
    "# Get target information from ChEMBL but restrict it to specified values only\n",
    "targets = targets_api.get(target_components__accession=uniprot_id).only(\n",
    "    \"target_chembl_id\", \"organism\", \"pref_name\", \"target_type\"\n",
    ")\n",
    "targets = pd.DataFrame.from_records(targets)\n",
    "targets"
   ]
  },
  {
   "cell_type": "markdown",
   "id": "da29b5bc-3c3c-4ba7-a292-bf386e179d3f",
   "metadata": {},
   "source": [
    "#### Select target (target ChEMBL ID)\n",
    "\n",
    "After checking the entries, we select the first entry as our target of interest:\n",
    "\n",
    "`CHEMBL1862`"
   ]
  },
  {
   "cell_type": "code",
   "execution_count": 817,
   "id": "9c36b925-5cd2-49dd-ae7b-76c0a0d1c0b3",
   "metadata": {
    "tags": []
   },
   "outputs": [
    {
     "data": {
      "text/plain": [
       "organism                           Homo sapiens\n",
       "pref_name           Tyrosine-protein kinase ABL\n",
       "target_chembl_id                     CHEMBL1862\n",
       "target_type                      SINGLE PROTEIN\n",
       "Name: 0, dtype: object"
      ]
     },
     "execution_count": 817,
     "metadata": {},
     "output_type": "execute_result"
    }
   ],
   "source": [
    "target = targets.iloc[0]\n",
    "target"
   ]
  },
  {
   "cell_type": "markdown",
   "id": "990801e1-68a7-46e1-8649-836b1a65d8d3",
   "metadata": {},
   "source": [
    "Save selected ChEMBL ID."
   ]
  },
  {
   "cell_type": "code",
   "execution_count": 818,
   "id": "2a3ef1ff-459b-4452-b8a2-f0ecb99a22e2",
   "metadata": {
    "tags": []
   },
   "outputs": [
    {
     "name": "stdout",
     "output_type": "stream",
     "text": [
      "The target ChEMBL ID is CHEMBL1862\n"
     ]
    }
   ],
   "source": [
    "chembl_id = target.target_chembl_id\n",
    "print(f\"The target ChEMBL ID is {chembl_id}\")\n",
    "# NBVAL_CHECK_OUTPUT"
   ]
  },
  {
   "cell_type": "markdown",
   "id": "6499e9c0-d42f-4271-9555-61d908170d54",
   "metadata": {},
   "source": [
    "### Get bioactivity data\n",
    "\n",
    "Now, we want to query bioactivity data for the target of interest."
   ]
  },
  {
   "cell_type": "markdown",
   "id": "bf46353f-8034-403d-858c-dfc739aad4cb",
   "metadata": {},
   "source": [
    "#### Fetch bioactivity data for the target from ChEMBL"
   ]
  },
  {
   "cell_type": "markdown",
   "id": "c1efc5dc-90b6-40df-acf6-c2e901bb6895",
   "metadata": {},
   "source": [
    "In this step, we fetch the bioactivity data and filter it to only consider\n",
    "\n",
    "* human proteins, \n",
    "* bioactivity type IC50, \n",
    "* exact measurements (relation `'='`), and\n",
    "* binding data (assay type `'B'`)."
   ]
  },
  {
   "cell_type": "code",
   "execution_count": 819,
   "id": "a13c8f55-7844-4855-9dc3-81cb0a0467ea",
   "metadata": {
    "tags": []
   },
   "outputs": [
    {
     "name": "stdout",
     "output_type": "stream",
     "text": [
      "Length and type of bioactivities object: 2307\n"
     ]
    }
   ],
   "source": [
    "bioactivities = bioactivities_api.filter(\n",
    "    target_chembl_id=chembl_id, type=\"IC50\", relation=\"=\", assay_type=\"B\"\n",
    ").only(\n",
    "    \"activity_id\",\n",
    "    \"assay_chembl_id\",\n",
    "    \"assay_description\",\n",
    "    \"assay_type\",\n",
    "    \"molecule_chembl_id\",\n",
    "    \"type\",\n",
    "    \"standard_units\",\n",
    "    \"relation\",\n",
    "    \"standard_value\",\n",
    "    \"target_chembl_id\",\n",
    "    \"target_organism\",\n",
    ")\n",
    "\n",
    "print(f\"Length and type of bioactivities object: {len(bioactivities)}\")"
   ]
  },
  {
   "cell_type": "markdown",
   "id": "d2c93dc0-7e27-45c4-8c9d-48476e12e369",
   "metadata": {},
   "source": [
    "Each entry in our bioactivity set holds the following information:"
   ]
  },
  {
   "cell_type": "code",
   "execution_count": 820,
   "id": "7816cc5e-af39-4bda-b139-9b3aa31bf380",
   "metadata": {
    "tags": []
   },
   "outputs": [
    {
     "data": {
      "text/plain": [
       "{'activity_id': 146141,\n",
       " 'assay_chembl_id': 'CHEMBL806527',\n",
       " 'assay_description': 'Radioligand displacement assay for the binding of [125I]Glu-Pro-Gln-pTyr-Glu-Glu-Ile-Pro-Ile-Tyr-Leu to ABL SH2 domain',\n",
       " 'assay_type': 'B',\n",
       " 'molecule_chembl_id': 'CHEMBL13462',\n",
       " 'relation': '=',\n",
       " 'standard_units': 'nM',\n",
       " 'standard_value': '4000.0',\n",
       " 'target_chembl_id': 'CHEMBL1862',\n",
       " 'target_organism': 'Homo sapiens',\n",
       " 'type': 'IC50',\n",
       " 'units': 'uM',\n",
       " 'value': '4.0'}"
      ]
     },
     "execution_count": 820,
     "metadata": {},
     "output_type": "execute_result"
    }
   ],
   "source": [
    "bioactivities[0]"
   ]
  },
  {
   "cell_type": "markdown",
   "id": "e2175511-4dfd-41dc-8f34-e70b752de738",
   "metadata": {},
   "source": [
    "#### Download bioactivity data from ChEMBL"
   ]
  },
  {
   "cell_type": "markdown",
   "id": "6040aa21-83d8-4cd7-87db-c6b32e9943f6",
   "metadata": {},
   "source": [
    "Finally, we download the `QuerySet` in the form of a `pandas` `DataFrame`. \n"
   ]
  },
  {
   "cell_type": "code",
   "execution_count": 821,
   "id": "8e37369d-4148-42ab-8184-cb4e23fca71a",
   "metadata": {
    "tags": []
   },
   "outputs": [
    {
     "name": "stdout",
     "output_type": "stream",
     "text": [
      "DataFrame shape: (2307, 13)\n"
     ]
    },
    {
     "data": {
      "text/html": [
       "<div>\n",
       "<style scoped>\n",
       "    .dataframe tbody tr th:only-of-type {\n",
       "        vertical-align: middle;\n",
       "    }\n",
       "\n",
       "    .dataframe tbody tr th {\n",
       "        vertical-align: top;\n",
       "    }\n",
       "\n",
       "    .dataframe thead th {\n",
       "        text-align: right;\n",
       "    }\n",
       "</style>\n",
       "<table border=\"1\" class=\"dataframe\">\n",
       "  <thead>\n",
       "    <tr style=\"text-align: right;\">\n",
       "      <th></th>\n",
       "      <th>activity_id</th>\n",
       "      <th>assay_chembl_id</th>\n",
       "      <th>assay_description</th>\n",
       "      <th>assay_type</th>\n",
       "      <th>molecule_chembl_id</th>\n",
       "      <th>relation</th>\n",
       "      <th>standard_units</th>\n",
       "      <th>standard_value</th>\n",
       "      <th>target_chembl_id</th>\n",
       "      <th>target_organism</th>\n",
       "      <th>type</th>\n",
       "      <th>units</th>\n",
       "      <th>value</th>\n",
       "    </tr>\n",
       "  </thead>\n",
       "  <tbody>\n",
       "    <tr>\n",
       "      <th>0</th>\n",
       "      <td>146141</td>\n",
       "      <td>CHEMBL806527</td>\n",
       "      <td>Radioligand displacement assay for the binding...</td>\n",
       "      <td>B</td>\n",
       "      <td>CHEMBL13462</td>\n",
       "      <td>=</td>\n",
       "      <td>nM</td>\n",
       "      <td>4000.0</td>\n",
       "      <td>CHEMBL1862</td>\n",
       "      <td>Homo sapiens</td>\n",
       "      <td>IC50</td>\n",
       "      <td>uM</td>\n",
       "      <td>4.0</td>\n",
       "    </tr>\n",
       "    <tr>\n",
       "      <th>1</th>\n",
       "      <td>146143</td>\n",
       "      <td>CHEMBL762575</td>\n",
       "      <td>Inhibition of [35S]-labeled SH2-GST Abl bindin...</td>\n",
       "      <td>B</td>\n",
       "      <td>CHEMBL13462</td>\n",
       "      <td>=</td>\n",
       "      <td>nM</td>\n",
       "      <td>16000.0</td>\n",
       "      <td>CHEMBL1862</td>\n",
       "      <td>Homo sapiens</td>\n",
       "      <td>IC50</td>\n",
       "      <td>uM</td>\n",
       "      <td>16.0</td>\n",
       "    </tr>\n",
       "    <tr>\n",
       "      <th>2</th>\n",
       "      <td>148569</td>\n",
       "      <td>CHEMBL806527</td>\n",
       "      <td>Radioligand displacement assay for the binding...</td>\n",
       "      <td>B</td>\n",
       "      <td>CHEMBL414123</td>\n",
       "      <td>=</td>\n",
       "      <td>nM</td>\n",
       "      <td>15000.0</td>\n",
       "      <td>CHEMBL1862</td>\n",
       "      <td>Homo sapiens</td>\n",
       "      <td>IC50</td>\n",
       "      <td>uM</td>\n",
       "      <td>15.0</td>\n",
       "    </tr>\n",
       "    <tr>\n",
       "      <th>3</th>\n",
       "      <td>148571</td>\n",
       "      <td>CHEMBL762575</td>\n",
       "      <td>Inhibition of [35S]-labeled SH2-GST Abl bindin...</td>\n",
       "      <td>B</td>\n",
       "      <td>CHEMBL414123</td>\n",
       "      <td>=</td>\n",
       "      <td>nM</td>\n",
       "      <td>2900.0</td>\n",
       "      <td>CHEMBL1862</td>\n",
       "      <td>Homo sapiens</td>\n",
       "      <td>IC50</td>\n",
       "      <td>uM</td>\n",
       "      <td>2.9</td>\n",
       "    </tr>\n",
       "    <tr>\n",
       "      <th>4</th>\n",
       "      <td>152122</td>\n",
       "      <td>CHEMBL806527</td>\n",
       "      <td>Radioligand displacement assay for the binding...</td>\n",
       "      <td>B</td>\n",
       "      <td>CHEMBL413629</td>\n",
       "      <td>=</td>\n",
       "      <td>nM</td>\n",
       "      <td>1800.0</td>\n",
       "      <td>CHEMBL1862</td>\n",
       "      <td>Homo sapiens</td>\n",
       "      <td>IC50</td>\n",
       "      <td>uM</td>\n",
       "      <td>1.8</td>\n",
       "    </tr>\n",
       "  </tbody>\n",
       "</table>\n",
       "</div>"
      ],
      "text/plain": [
       "   activity_id assay_chembl_id  \\\n",
       "0       146141    CHEMBL806527   \n",
       "1       146143    CHEMBL762575   \n",
       "2       148569    CHEMBL806527   \n",
       "3       148571    CHEMBL762575   \n",
       "4       152122    CHEMBL806527   \n",
       "\n",
       "                                   assay_description assay_type  \\\n",
       "0  Radioligand displacement assay for the binding...          B   \n",
       "1  Inhibition of [35S]-labeled SH2-GST Abl bindin...          B   \n",
       "2  Radioligand displacement assay for the binding...          B   \n",
       "3  Inhibition of [35S]-labeled SH2-GST Abl bindin...          B   \n",
       "4  Radioligand displacement assay for the binding...          B   \n",
       "\n",
       "  molecule_chembl_id relation standard_units standard_value target_chembl_id  \\\n",
       "0        CHEMBL13462        =             nM         4000.0       CHEMBL1862   \n",
       "1        CHEMBL13462        =             nM        16000.0       CHEMBL1862   \n",
       "2       CHEMBL414123        =             nM        15000.0       CHEMBL1862   \n",
       "3       CHEMBL414123        =             nM         2900.0       CHEMBL1862   \n",
       "4       CHEMBL413629        =             nM         1800.0       CHEMBL1862   \n",
       "\n",
       "  target_organism  type units value  \n",
       "0    Homo sapiens  IC50    uM   4.0  \n",
       "1    Homo sapiens  IC50    uM  16.0  \n",
       "2    Homo sapiens  IC50    uM  15.0  \n",
       "3    Homo sapiens  IC50    uM   2.9  \n",
       "4    Homo sapiens  IC50    uM   1.8  "
      ]
     },
     "execution_count": 821,
     "metadata": {},
     "output_type": "execute_result"
    }
   ],
   "source": [
    "bioactivities_df = pd.DataFrame.from_dict(bioactivities)\n",
    "print(f\"DataFrame shape: {bioactivities_df.shape}\")\n",
    "bioactivities_df.head()"
   ]
  },
  {
   "cell_type": "code",
   "execution_count": 822,
   "id": "febe6b04-b939-44e7-b247-6108cd8be716",
   "metadata": {
    "tags": []
   },
   "outputs": [
    {
     "data": {
      "text/plain": [
       "array(['uM', 'nM', 'M', 'microM', \"10'-6M\", \"10'-8M\", \"10'-7M\", '10^-8M'],\n",
       "      dtype=object)"
      ]
     },
     "execution_count": 822,
     "metadata": {},
     "output_type": "execute_result"
    }
   ],
   "source": [
    "bioactivities_df[\"units\"].unique()"
   ]
  },
  {
   "cell_type": "code",
   "execution_count": 823,
   "id": "dcaf2bf3-f26b-4c78-a9ba-e6cc87628355",
   "metadata": {
    "tags": []
   },
   "outputs": [
    {
     "data": {
      "text/html": [
       "<div>\n",
       "<style scoped>\n",
       "    .dataframe tbody tr th:only-of-type {\n",
       "        vertical-align: middle;\n",
       "    }\n",
       "\n",
       "    .dataframe tbody tr th {\n",
       "        vertical-align: top;\n",
       "    }\n",
       "\n",
       "    .dataframe thead th {\n",
       "        text-align: right;\n",
       "    }\n",
       "</style>\n",
       "<table border=\"1\" class=\"dataframe\">\n",
       "  <thead>\n",
       "    <tr style=\"text-align: right;\">\n",
       "      <th></th>\n",
       "      <th>activity_id</th>\n",
       "      <th>assay_chembl_id</th>\n",
       "      <th>assay_description</th>\n",
       "      <th>assay_type</th>\n",
       "      <th>molecule_chembl_id</th>\n",
       "      <th>relation</th>\n",
       "      <th>standard_units</th>\n",
       "      <th>standard_value</th>\n",
       "      <th>target_chembl_id</th>\n",
       "      <th>target_organism</th>\n",
       "      <th>type</th>\n",
       "    </tr>\n",
       "  </thead>\n",
       "  <tbody>\n",
       "    <tr>\n",
       "      <th>0</th>\n",
       "      <td>146141</td>\n",
       "      <td>CHEMBL806527</td>\n",
       "      <td>Radioligand displacement assay for the binding...</td>\n",
       "      <td>B</td>\n",
       "      <td>CHEMBL13462</td>\n",
       "      <td>=</td>\n",
       "      <td>nM</td>\n",
       "      <td>4000.0</td>\n",
       "      <td>CHEMBL1862</td>\n",
       "      <td>Homo sapiens</td>\n",
       "      <td>IC50</td>\n",
       "    </tr>\n",
       "    <tr>\n",
       "      <th>1</th>\n",
       "      <td>146143</td>\n",
       "      <td>CHEMBL762575</td>\n",
       "      <td>Inhibition of [35S]-labeled SH2-GST Abl bindin...</td>\n",
       "      <td>B</td>\n",
       "      <td>CHEMBL13462</td>\n",
       "      <td>=</td>\n",
       "      <td>nM</td>\n",
       "      <td>16000.0</td>\n",
       "      <td>CHEMBL1862</td>\n",
       "      <td>Homo sapiens</td>\n",
       "      <td>IC50</td>\n",
       "    </tr>\n",
       "    <tr>\n",
       "      <th>2</th>\n",
       "      <td>148569</td>\n",
       "      <td>CHEMBL806527</td>\n",
       "      <td>Radioligand displacement assay for the binding...</td>\n",
       "      <td>B</td>\n",
       "      <td>CHEMBL414123</td>\n",
       "      <td>=</td>\n",
       "      <td>nM</td>\n",
       "      <td>15000.0</td>\n",
       "      <td>CHEMBL1862</td>\n",
       "      <td>Homo sapiens</td>\n",
       "      <td>IC50</td>\n",
       "    </tr>\n",
       "    <tr>\n",
       "      <th>3</th>\n",
       "      <td>148571</td>\n",
       "      <td>CHEMBL762575</td>\n",
       "      <td>Inhibition of [35S]-labeled SH2-GST Abl bindin...</td>\n",
       "      <td>B</td>\n",
       "      <td>CHEMBL414123</td>\n",
       "      <td>=</td>\n",
       "      <td>nM</td>\n",
       "      <td>2900.0</td>\n",
       "      <td>CHEMBL1862</td>\n",
       "      <td>Homo sapiens</td>\n",
       "      <td>IC50</td>\n",
       "    </tr>\n",
       "    <tr>\n",
       "      <th>4</th>\n",
       "      <td>152122</td>\n",
       "      <td>CHEMBL806527</td>\n",
       "      <td>Radioligand displacement assay for the binding...</td>\n",
       "      <td>B</td>\n",
       "      <td>CHEMBL413629</td>\n",
       "      <td>=</td>\n",
       "      <td>nM</td>\n",
       "      <td>1800.0</td>\n",
       "      <td>CHEMBL1862</td>\n",
       "      <td>Homo sapiens</td>\n",
       "      <td>IC50</td>\n",
       "    </tr>\n",
       "  </tbody>\n",
       "</table>\n",
       "</div>"
      ],
      "text/plain": [
       "   activity_id assay_chembl_id  \\\n",
       "0       146141    CHEMBL806527   \n",
       "1       146143    CHEMBL762575   \n",
       "2       148569    CHEMBL806527   \n",
       "3       148571    CHEMBL762575   \n",
       "4       152122    CHEMBL806527   \n",
       "\n",
       "                                   assay_description assay_type  \\\n",
       "0  Radioligand displacement assay for the binding...          B   \n",
       "1  Inhibition of [35S]-labeled SH2-GST Abl bindin...          B   \n",
       "2  Radioligand displacement assay for the binding...          B   \n",
       "3  Inhibition of [35S]-labeled SH2-GST Abl bindin...          B   \n",
       "4  Radioligand displacement assay for the binding...          B   \n",
       "\n",
       "  molecule_chembl_id relation standard_units standard_value target_chembl_id  \\\n",
       "0        CHEMBL13462        =             nM         4000.0       CHEMBL1862   \n",
       "1        CHEMBL13462        =             nM        16000.0       CHEMBL1862   \n",
       "2       CHEMBL414123        =             nM        15000.0       CHEMBL1862   \n",
       "3       CHEMBL414123        =             nM         2900.0       CHEMBL1862   \n",
       "4       CHEMBL413629        =             nM         1800.0       CHEMBL1862   \n",
       "\n",
       "  target_organism  type  \n",
       "0    Homo sapiens  IC50  \n",
       "1    Homo sapiens  IC50  \n",
       "2    Homo sapiens  IC50  \n",
       "3    Homo sapiens  IC50  \n",
       "4    Homo sapiens  IC50  "
      ]
     },
     "execution_count": 823,
     "metadata": {},
     "output_type": "execute_result"
    }
   ],
   "source": [
    "bioactivities_df.drop([\"units\", \"value\"], axis=1, inplace=True)\n",
    "bioactivities_df.head()"
   ]
  },
  {
   "cell_type": "markdown",
   "id": "e6deba33-f7dc-4612-88b0-21600ecc0348",
   "metadata": {},
   "source": [
    "#### Preprocess and filter bioactivity data\n",
    "\n",
    "1. Convert `standard_value`'s datatype from `object` to `float`\n",
    "2. Delete entries with missing values\n",
    "3. Keep only entries with `standard_unit == nM`\n",
    "4. Delete duplicate molecules\n",
    "5. Reset `DataFrame` index\n",
    "6. Rename columns"
   ]
  },
  {
   "cell_type": "markdown",
   "id": "4f065b3f-36de-4295-ade0-44168e7ee063",
   "metadata": {},
   "source": [
    "**1. Convert datatype of \"standard_value\" from \"object\" to \"float\"**\n",
    "\n",
    "The field `standard_value` holds standardized (here IC50) values. In order to make these values usable in calculations later on, convert values to floats."
   ]
  },
  {
   "cell_type": "code",
   "execution_count": 824,
   "id": "a396f26a-c480-4bd8-a435-9ff6944c8efe",
   "metadata": {
    "tags": []
   },
   "outputs": [
    {
     "data": {
      "text/plain": [
       "activity_id            int64\n",
       "assay_chembl_id       object\n",
       "assay_description     object\n",
       "assay_type            object\n",
       "molecule_chembl_id    object\n",
       "relation              object\n",
       "standard_units        object\n",
       "standard_value        object\n",
       "target_chembl_id      object\n",
       "target_organism       object\n",
       "type                  object\n",
       "dtype: object"
      ]
     },
     "execution_count": 824,
     "metadata": {},
     "output_type": "execute_result"
    }
   ],
   "source": [
    "bioactivities_df.dtypes"
   ]
  },
  {
   "cell_type": "code",
   "execution_count": 825,
   "id": "4e7859e1-e1b4-4aa3-b821-61474ffd86a2",
   "metadata": {
    "tags": []
   },
   "outputs": [
    {
     "data": {
      "text/plain": [
       "activity_id             int64\n",
       "assay_chembl_id        object\n",
       "assay_description      object\n",
       "assay_type             object\n",
       "molecule_chembl_id     object\n",
       "relation               object\n",
       "standard_units         object\n",
       "standard_value        float64\n",
       "target_chembl_id       object\n",
       "target_organism        object\n",
       "type                   object\n",
       "dtype: object"
      ]
     },
     "execution_count": 825,
     "metadata": {},
     "output_type": "execute_result"
    }
   ],
   "source": [
    "bioactivities_df = bioactivities_df.astype({\"standard_value\": \"float64\"})\n",
    "bioactivities_df.dtypes"
   ]
  },
  {
   "cell_type": "markdown",
   "id": "483657b0-b93a-4179-a7e6-86bcbe1933eb",
   "metadata": {},
   "source": [
    "**2. Delete entries with missing values**\n",
    "\n",
    "Use the parameter `inplace=True` to drop values in the current `DataFrame` directly."
   ]
  },
  {
   "cell_type": "code",
   "execution_count": 826,
   "id": "0c897332-c8ae-4f2d-9c53-0a9b6ff0859c",
   "metadata": {
    "tags": []
   },
   "outputs": [
    {
     "name": "stdout",
     "output_type": "stream",
     "text": [
      "DataFrame shape: (2307, 11)\n"
     ]
    }
   ],
   "source": [
    "bioactivities_df.dropna(axis=0, how=\"any\", inplace=True)\n",
    "print(f\"DataFrame shape: {bioactivities_df.shape}\")"
   ]
  },
  {
   "cell_type": "markdown",
   "id": "4318a9d1-0b56-48c1-b0ca-fc81790e2206",
   "metadata": {},
   "source": [
    "**3. Keep only entries with \"standard_unit == nM\"** \n",
    "\n",
    "We only want to keep bioactivity entries in `nM`, thus we remove all entries with other units."
   ]
  },
  {
   "cell_type": "code",
   "execution_count": 827,
   "id": "210a6f8c-7c57-4a5c-ab24-9a0a79a3cad5",
   "metadata": {
    "tags": []
   },
   "outputs": [
    {
     "name": "stdout",
     "output_type": "stream",
     "text": [
      "Units in downloaded data: ['nM']\n",
      "Number of non-nM entries:    0\n"
     ]
    }
   ],
   "source": [
    "print(f\"Units in downloaded data: {bioactivities_df['standard_units'].unique()}\")\n",
    "print(\n",
    "    f\"Number of non-nM entries:\\\n",
    "    {bioactivities_df[bioactivities_df['standard_units'] != 'nM'].shape[0]}\"\n",
    ")"
   ]
  },
  {
   "cell_type": "code",
   "execution_count": 828,
   "id": "285564e9-5905-40fd-bc88-e4b25b020977",
   "metadata": {
    "tags": []
   },
   "outputs": [
    {
     "name": "stdout",
     "output_type": "stream",
     "text": [
      "Units after filtering: ['nM']\n"
     ]
    }
   ],
   "source": [
    "bioactivities_df = bioactivities_df[bioactivities_df[\"standard_units\"] == \"nM\"]\n",
    "print(f\"Units after filtering: {bioactivities_df['standard_units'].unique()}\")"
   ]
  },
  {
   "cell_type": "code",
   "execution_count": 829,
   "id": "18ae3934-9df1-48fe-a486-402528f4ca9f",
   "metadata": {
    "tags": []
   },
   "outputs": [
    {
     "name": "stdout",
     "output_type": "stream",
     "text": [
      "DataFrame shape: (2307, 11)\n"
     ]
    }
   ],
   "source": [
    "print(f\"DataFrame shape: {bioactivities_df.shape}\")"
   ]
  },
  {
   "cell_type": "markdown",
   "id": "a217e31f-161f-4e9b-832c-f95578e677be",
   "metadata": {},
   "source": [
    "**4. Delete duplicate molecules**\n",
    "\n",
    "Sometimes the same molecule (`molecule_chembl_id`) has been tested more than once, in this case, we only keep the first one.\n",
    "\n",
    "Note other choices could be to keep the one with the best value or a mean value of all assay results for the respective compound."
   ]
  },
  {
   "cell_type": "code",
   "execution_count": 830,
   "id": "cc8e034d-d76d-4a50-991a-c20ebb5469de",
   "metadata": {
    "tags": []
   },
   "outputs": [
    {
     "name": "stdout",
     "output_type": "stream",
     "text": [
      "DataFrame shape: (1476, 11)\n"
     ]
    }
   ],
   "source": [
    "bioactivities_df.drop_duplicates(\"molecule_chembl_id\", keep=\"first\", inplace=True)\n",
    "print(f\"DataFrame shape: {bioactivities_df.shape}\")"
   ]
  },
  {
   "cell_type": "markdown",
   "id": "86a63865-04f5-489d-834c-62d3a1a17964",
   "metadata": {},
   "source": [
    "**5. Reset \"DataFrame\" index**\n",
    "\n",
    "Since we deleted some rows, but we want to iterate over the index later, we reset the index to be continuous."
   ]
  },
  {
   "cell_type": "code",
   "execution_count": 831,
   "id": "43a27a31-323b-4099-9096-e03f51f0df6e",
   "metadata": {
    "tags": []
   },
   "outputs": [
    {
     "data": {
      "text/html": [
       "<div>\n",
       "<style scoped>\n",
       "    .dataframe tbody tr th:only-of-type {\n",
       "        vertical-align: middle;\n",
       "    }\n",
       "\n",
       "    .dataframe tbody tr th {\n",
       "        vertical-align: top;\n",
       "    }\n",
       "\n",
       "    .dataframe thead th {\n",
       "        text-align: right;\n",
       "    }\n",
       "</style>\n",
       "<table border=\"1\" class=\"dataframe\">\n",
       "  <thead>\n",
       "    <tr style=\"text-align: right;\">\n",
       "      <th></th>\n",
       "      <th>activity_id</th>\n",
       "      <th>assay_chembl_id</th>\n",
       "      <th>assay_description</th>\n",
       "      <th>assay_type</th>\n",
       "      <th>molecule_chembl_id</th>\n",
       "      <th>relation</th>\n",
       "      <th>standard_units</th>\n",
       "      <th>standard_value</th>\n",
       "      <th>target_chembl_id</th>\n",
       "      <th>target_organism</th>\n",
       "      <th>type</th>\n",
       "    </tr>\n",
       "  </thead>\n",
       "  <tbody>\n",
       "    <tr>\n",
       "      <th>0</th>\n",
       "      <td>146141</td>\n",
       "      <td>CHEMBL806527</td>\n",
       "      <td>Radioligand displacement assay for the binding...</td>\n",
       "      <td>B</td>\n",
       "      <td>CHEMBL13462</td>\n",
       "      <td>=</td>\n",
       "      <td>nM</td>\n",
       "      <td>4000.0</td>\n",
       "      <td>CHEMBL1862</td>\n",
       "      <td>Homo sapiens</td>\n",
       "      <td>IC50</td>\n",
       "    </tr>\n",
       "    <tr>\n",
       "      <th>1</th>\n",
       "      <td>148569</td>\n",
       "      <td>CHEMBL806527</td>\n",
       "      <td>Radioligand displacement assay for the binding...</td>\n",
       "      <td>B</td>\n",
       "      <td>CHEMBL414123</td>\n",
       "      <td>=</td>\n",
       "      <td>nM</td>\n",
       "      <td>15000.0</td>\n",
       "      <td>CHEMBL1862</td>\n",
       "      <td>Homo sapiens</td>\n",
       "      <td>IC50</td>\n",
       "    </tr>\n",
       "    <tr>\n",
       "      <th>2</th>\n",
       "      <td>152122</td>\n",
       "      <td>CHEMBL806527</td>\n",
       "      <td>Radioligand displacement assay for the binding...</td>\n",
       "      <td>B</td>\n",
       "      <td>CHEMBL413629</td>\n",
       "      <td>=</td>\n",
       "      <td>nM</td>\n",
       "      <td>1800.0</td>\n",
       "      <td>CHEMBL1862</td>\n",
       "      <td>Homo sapiens</td>\n",
       "      <td>IC50</td>\n",
       "    </tr>\n",
       "    <tr>\n",
       "      <th>3</th>\n",
       "      <td>154553</td>\n",
       "      <td>CHEMBL806527</td>\n",
       "      <td>Radioligand displacement assay for the binding...</td>\n",
       "      <td>B</td>\n",
       "      <td>CHEMBL301845</td>\n",
       "      <td>=</td>\n",
       "      <td>nM</td>\n",
       "      <td>15000.0</td>\n",
       "      <td>CHEMBL1862</td>\n",
       "      <td>Homo sapiens</td>\n",
       "      <td>IC50</td>\n",
       "    </tr>\n",
       "    <tr>\n",
       "      <th>4</th>\n",
       "      <td>159483</td>\n",
       "      <td>CHEMBL806527</td>\n",
       "      <td>Radioligand displacement assay for the binding...</td>\n",
       "      <td>B</td>\n",
       "      <td>CHEMBL58478</td>\n",
       "      <td>=</td>\n",
       "      <td>nM</td>\n",
       "      <td>1700.0</td>\n",
       "      <td>CHEMBL1862</td>\n",
       "      <td>Homo sapiens</td>\n",
       "      <td>IC50</td>\n",
       "    </tr>\n",
       "  </tbody>\n",
       "</table>\n",
       "</div>"
      ],
      "text/plain": [
       "   activity_id assay_chembl_id  \\\n",
       "0       146141    CHEMBL806527   \n",
       "1       148569    CHEMBL806527   \n",
       "2       152122    CHEMBL806527   \n",
       "3       154553    CHEMBL806527   \n",
       "4       159483    CHEMBL806527   \n",
       "\n",
       "                                   assay_description assay_type  \\\n",
       "0  Radioligand displacement assay for the binding...          B   \n",
       "1  Radioligand displacement assay for the binding...          B   \n",
       "2  Radioligand displacement assay for the binding...          B   \n",
       "3  Radioligand displacement assay for the binding...          B   \n",
       "4  Radioligand displacement assay for the binding...          B   \n",
       "\n",
       "  molecule_chembl_id relation standard_units  standard_value target_chembl_id  \\\n",
       "0        CHEMBL13462        =             nM          4000.0       CHEMBL1862   \n",
       "1       CHEMBL414123        =             nM         15000.0       CHEMBL1862   \n",
       "2       CHEMBL413629        =             nM          1800.0       CHEMBL1862   \n",
       "3       CHEMBL301845        =             nM         15000.0       CHEMBL1862   \n",
       "4        CHEMBL58478        =             nM          1700.0       CHEMBL1862   \n",
       "\n",
       "  target_organism  type  \n",
       "0    Homo sapiens  IC50  \n",
       "1    Homo sapiens  IC50  \n",
       "2    Homo sapiens  IC50  \n",
       "3    Homo sapiens  IC50  \n",
       "4    Homo sapiens  IC50  "
      ]
     },
     "execution_count": 831,
     "metadata": {},
     "output_type": "execute_result"
    }
   ],
   "source": [
    "bioactivities_df.reset_index(drop=True, inplace=True)\n",
    "bioactivities_df.head()"
   ]
  },
  {
   "cell_type": "markdown",
   "id": "d0c78908-33f1-4e64-bdd9-eacde3d29c7a",
   "metadata": {},
   "source": [
    "**6. Rename columns**"
   ]
  },
  {
   "cell_type": "code",
   "execution_count": 832,
   "id": "1325f48a-6897-4b26-aca3-a5cfc85dd051",
   "metadata": {
    "tags": []
   },
   "outputs": [
    {
     "data": {
      "text/html": [
       "<div>\n",
       "<style scoped>\n",
       "    .dataframe tbody tr th:only-of-type {\n",
       "        vertical-align: middle;\n",
       "    }\n",
       "\n",
       "    .dataframe tbody tr th {\n",
       "        vertical-align: top;\n",
       "    }\n",
       "\n",
       "    .dataframe thead th {\n",
       "        text-align: right;\n",
       "    }\n",
       "</style>\n",
       "<table border=\"1\" class=\"dataframe\">\n",
       "  <thead>\n",
       "    <tr style=\"text-align: right;\">\n",
       "      <th></th>\n",
       "      <th>activity_id</th>\n",
       "      <th>assay_chembl_id</th>\n",
       "      <th>assay_description</th>\n",
       "      <th>assay_type</th>\n",
       "      <th>molecule_chembl_id</th>\n",
       "      <th>relation</th>\n",
       "      <th>units</th>\n",
       "      <th>IC50</th>\n",
       "      <th>target_chembl_id</th>\n",
       "      <th>target_organism</th>\n",
       "      <th>type</th>\n",
       "    </tr>\n",
       "  </thead>\n",
       "  <tbody>\n",
       "    <tr>\n",
       "      <th>0</th>\n",
       "      <td>146141</td>\n",
       "      <td>CHEMBL806527</td>\n",
       "      <td>Radioligand displacement assay for the binding...</td>\n",
       "      <td>B</td>\n",
       "      <td>CHEMBL13462</td>\n",
       "      <td>=</td>\n",
       "      <td>nM</td>\n",
       "      <td>4000.0</td>\n",
       "      <td>CHEMBL1862</td>\n",
       "      <td>Homo sapiens</td>\n",
       "      <td>IC50</td>\n",
       "    </tr>\n",
       "    <tr>\n",
       "      <th>1</th>\n",
       "      <td>148569</td>\n",
       "      <td>CHEMBL806527</td>\n",
       "      <td>Radioligand displacement assay for the binding...</td>\n",
       "      <td>B</td>\n",
       "      <td>CHEMBL414123</td>\n",
       "      <td>=</td>\n",
       "      <td>nM</td>\n",
       "      <td>15000.0</td>\n",
       "      <td>CHEMBL1862</td>\n",
       "      <td>Homo sapiens</td>\n",
       "      <td>IC50</td>\n",
       "    </tr>\n",
       "    <tr>\n",
       "      <th>2</th>\n",
       "      <td>152122</td>\n",
       "      <td>CHEMBL806527</td>\n",
       "      <td>Radioligand displacement assay for the binding...</td>\n",
       "      <td>B</td>\n",
       "      <td>CHEMBL413629</td>\n",
       "      <td>=</td>\n",
       "      <td>nM</td>\n",
       "      <td>1800.0</td>\n",
       "      <td>CHEMBL1862</td>\n",
       "      <td>Homo sapiens</td>\n",
       "      <td>IC50</td>\n",
       "    </tr>\n",
       "    <tr>\n",
       "      <th>3</th>\n",
       "      <td>154553</td>\n",
       "      <td>CHEMBL806527</td>\n",
       "      <td>Radioligand displacement assay for the binding...</td>\n",
       "      <td>B</td>\n",
       "      <td>CHEMBL301845</td>\n",
       "      <td>=</td>\n",
       "      <td>nM</td>\n",
       "      <td>15000.0</td>\n",
       "      <td>CHEMBL1862</td>\n",
       "      <td>Homo sapiens</td>\n",
       "      <td>IC50</td>\n",
       "    </tr>\n",
       "    <tr>\n",
       "      <th>4</th>\n",
       "      <td>159483</td>\n",
       "      <td>CHEMBL806527</td>\n",
       "      <td>Radioligand displacement assay for the binding...</td>\n",
       "      <td>B</td>\n",
       "      <td>CHEMBL58478</td>\n",
       "      <td>=</td>\n",
       "      <td>nM</td>\n",
       "      <td>1700.0</td>\n",
       "      <td>CHEMBL1862</td>\n",
       "      <td>Homo sapiens</td>\n",
       "      <td>IC50</td>\n",
       "    </tr>\n",
       "  </tbody>\n",
       "</table>\n",
       "</div>"
      ],
      "text/plain": [
       "   activity_id assay_chembl_id  \\\n",
       "0       146141    CHEMBL806527   \n",
       "1       148569    CHEMBL806527   \n",
       "2       152122    CHEMBL806527   \n",
       "3       154553    CHEMBL806527   \n",
       "4       159483    CHEMBL806527   \n",
       "\n",
       "                                   assay_description assay_type  \\\n",
       "0  Radioligand displacement assay for the binding...          B   \n",
       "1  Radioligand displacement assay for the binding...          B   \n",
       "2  Radioligand displacement assay for the binding...          B   \n",
       "3  Radioligand displacement assay for the binding...          B   \n",
       "4  Radioligand displacement assay for the binding...          B   \n",
       "\n",
       "  molecule_chembl_id relation units     IC50 target_chembl_id target_organism  \\\n",
       "0        CHEMBL13462        =    nM   4000.0       CHEMBL1862    Homo sapiens   \n",
       "1       CHEMBL414123        =    nM  15000.0       CHEMBL1862    Homo sapiens   \n",
       "2       CHEMBL413629        =    nM   1800.0       CHEMBL1862    Homo sapiens   \n",
       "3       CHEMBL301845        =    nM  15000.0       CHEMBL1862    Homo sapiens   \n",
       "4        CHEMBL58478        =    nM   1700.0       CHEMBL1862    Homo sapiens   \n",
       "\n",
       "   type  \n",
       "0  IC50  \n",
       "1  IC50  \n",
       "2  IC50  \n",
       "3  IC50  \n",
       "4  IC50  "
      ]
     },
     "execution_count": 832,
     "metadata": {},
     "output_type": "execute_result"
    }
   ],
   "source": [
    "bioactivities_df.rename(\n",
    "    columns={\"standard_value\": \"IC50\", \"standard_units\": \"units\"}, inplace=True\n",
    ")\n",
    "bioactivities_df.head()"
   ]
  },
  {
   "cell_type": "code",
   "execution_count": 901,
   "id": "ef94a740-7835-4d5e-8306-873fb9414725",
   "metadata": {
    "tags": []
   },
   "outputs": [
    {
     "name": "stdout",
     "output_type": "stream",
     "text": [
      "DataFrame shape: (1476, 11)\n"
     ]
    }
   ],
   "source": [
    "print(f\"DataFrame shape: {bioactivities_df.shape}\")\n",
    "number_of_cpds = bioactivities_df.shape[0]"
   ]
  },
  {
   "cell_type": "markdown",
   "id": "01fad499-fd18-43db-b203-05e4abc34deb",
   "metadata": {},
   "source": [
    "We now have a set of molecule ids with respective IC50 values for our target."
   ]
  },
  {
   "cell_type": "markdown",
   "id": "95ceb27e-ba05-4eee-9fe0-64722974e379",
   "metadata": {},
   "source": [
    "#### Fetch compound data from ChEMBL\n",
    "\n",
    "Let's have a look at the compounds from ChEMBL which we have defined bioactivity data for: We fetch compound ChEMBL IDs and structures for the compounds linked to our filtered bioactivity data."
   ]
  },
  {
   "cell_type": "code",
   "execution_count": 834,
   "id": "8234a63c-9783-4d6f-8574-5b99f30b4b61",
   "metadata": {
    "tags": []
   },
   "outputs": [],
   "source": [
    "compounds_provider = compounds_api.filter(\n",
    "    molecule_chembl_id__in=list(bioactivities_df[\"molecule_chembl_id\"])\n",
    ").only(\"molecule_chembl_id\", \"molecule_structures\")"
   ]
  },
  {
   "cell_type": "markdown",
   "id": "80ce252f-9bbd-4d33-913d-3a34f47c619c",
   "metadata": {},
   "source": [
    "#### Download compound data from ChEMBL\n",
    "\n",
    "Again, we want to export the `QuerySet` object into a `pandas.DataFrame`. Given the data volume, **this can take some time.** For that reason, we will first obtain the list of records through `tqdm`, so we get a nice progress bar and some ETAs. We can then pass the list of compounds to the DataFrame."
   ]
  },
  {
   "cell_type": "code",
   "execution_count": 835,
   "id": "3b7ec387-f846-4da3-a82a-3e5660defe36",
   "metadata": {
    "tags": []
   },
   "outputs": [
    {
     "name": "stderr",
     "output_type": "stream",
     "text": [
      "100%|███████████████████████████████████████████████████████████████████████████████████████████████| 1476/1476 [00:00<00:00, 14024.56it/s]\n"
     ]
    }
   ],
   "source": [
    "compounds = list(tqdm(compounds_provider))"
   ]
  },
  {
   "cell_type": "code",
   "execution_count": 836,
   "id": "cc36f2a8-ad58-48d1-8110-652597afa293",
   "metadata": {
    "tags": []
   },
   "outputs": [
    {
     "name": "stdout",
     "output_type": "stream",
     "text": [
      "DataFrame shape: (1476, 2)\n"
     ]
    }
   ],
   "source": [
    "compounds_df = pd.DataFrame.from_records(\n",
    "    compounds,\n",
    ")\n",
    "print(f\"DataFrame shape: {compounds_df.shape}\")"
   ]
  },
  {
   "cell_type": "code",
   "execution_count": 837,
   "id": "46d51cf6-f9ce-48cf-b0b5-1bf8814f9151",
   "metadata": {
    "tags": []
   },
   "outputs": [
    {
     "data": {
      "text/html": [
       "<div>\n",
       "<style scoped>\n",
       "    .dataframe tbody tr th:only-of-type {\n",
       "        vertical-align: middle;\n",
       "    }\n",
       "\n",
       "    .dataframe tbody tr th {\n",
       "        vertical-align: top;\n",
       "    }\n",
       "\n",
       "    .dataframe thead th {\n",
       "        text-align: right;\n",
       "    }\n",
       "</style>\n",
       "<table border=\"1\" class=\"dataframe\">\n",
       "  <thead>\n",
       "    <tr style=\"text-align: right;\">\n",
       "      <th></th>\n",
       "      <th>molecule_chembl_id</th>\n",
       "      <th>molecule_structures</th>\n",
       "    </tr>\n",
       "  </thead>\n",
       "  <tbody>\n",
       "    <tr>\n",
       "      <th>0</th>\n",
       "      <td>CHEMBL44</td>\n",
       "      <td>{'canonical_smiles': 'O=c1c(-c2ccc(O)cc2)coc2c...</td>\n",
       "    </tr>\n",
       "    <tr>\n",
       "      <th>1</th>\n",
       "      <td>CHEMBL9514</td>\n",
       "      <td>{'canonical_smiles': 'COC(=O)Nc1nc2cc(C(=O)c3c...</td>\n",
       "    </tr>\n",
       "    <tr>\n",
       "      <th>2</th>\n",
       "      <td>CHEMBL13462</td>\n",
       "      <td>{'canonical_smiles': 'CC(=O)N[C@@H](Cc1ccc(OP(...</td>\n",
       "    </tr>\n",
       "    <tr>\n",
       "      <th>3</th>\n",
       "      <td>CHEMBL276711</td>\n",
       "      <td>{'canonical_smiles': 'Cc1cc(C)c(/C=C2\\C(=O)Nc3...</td>\n",
       "    </tr>\n",
       "    <tr>\n",
       "      <th>4</th>\n",
       "      <td>CHEMBL535</td>\n",
       "      <td>{'canonical_smiles': 'CCN(CC)CCNC(=O)c1c(C)[nH...</td>\n",
       "    </tr>\n",
       "  </tbody>\n",
       "</table>\n",
       "</div>"
      ],
      "text/plain": [
       "  molecule_chembl_id                                molecule_structures\n",
       "0           CHEMBL44  {'canonical_smiles': 'O=c1c(-c2ccc(O)cc2)coc2c...\n",
       "1         CHEMBL9514  {'canonical_smiles': 'COC(=O)Nc1nc2cc(C(=O)c3c...\n",
       "2        CHEMBL13462  {'canonical_smiles': 'CC(=O)N[C@@H](Cc1ccc(OP(...\n",
       "3       CHEMBL276711  {'canonical_smiles': 'Cc1cc(C)c(/C=C2\\C(=O)Nc3...\n",
       "4          CHEMBL535  {'canonical_smiles': 'CCN(CC)CCNC(=O)c1c(C)[nH..."
      ]
     },
     "execution_count": 837,
     "metadata": {},
     "output_type": "execute_result"
    }
   ],
   "source": [
    "compounds_df.head()"
   ]
  },
  {
   "cell_type": "markdown",
   "id": "8e741f32-47f1-4425-b36c-2754ee78f87f",
   "metadata": {},
   "source": [
    "#### Preprocess and filter compound data\n",
    "\n",
    "1. Remove entries with missing entries\n",
    "2. Delete duplicate molecules (by molecule_chembl_id)\n",
    "3. Get molecules with canonical SMILES"
   ]
  },
  {
   "cell_type": "markdown",
   "id": "0d06f2a5-2cc5-4801-b916-e13db0891683",
   "metadata": {},
   "source": [
    "**1. Remove entries with missing molecule structure entry**"
   ]
  },
  {
   "cell_type": "code",
   "execution_count": 838,
   "id": "412a83b1-a303-4eb3-877d-1ce7ceaed32e",
   "metadata": {
    "tags": []
   },
   "outputs": [
    {
     "name": "stdout",
     "output_type": "stream",
     "text": [
      "DataFrame shape: (1474, 2)\n"
     ]
    }
   ],
   "source": [
    "compounds_df.dropna(axis=0, how=\"any\", inplace=True)\n",
    "print(f\"DataFrame shape: {compounds_df.shape}\")"
   ]
  },
  {
   "cell_type": "markdown",
   "id": "1223b723-b4ff-4008-8eae-25c2afb26d85",
   "metadata": {},
   "source": [
    "**2. Delete duplicate molecules**"
   ]
  },
  {
   "cell_type": "code",
   "execution_count": 839,
   "id": "90a9f728-93c4-41fe-9bdf-779a1fc5c37d",
   "metadata": {
    "tags": []
   },
   "outputs": [
    {
     "name": "stdout",
     "output_type": "stream",
     "text": [
      "DataFrame shape: (1474, 2)\n"
     ]
    }
   ],
   "source": [
    "compounds_df.drop_duplicates(\"molecule_chembl_id\", keep=\"first\", inplace=True)\n",
    "print(f\"DataFrame shape: {compounds_df.shape}\")"
   ]
  },
  {
   "cell_type": "markdown",
   "id": "d8a59e3a-07d3-45e2-ba57-0f549ee64889",
   "metadata": {},
   "source": [
    "**3. Get molecules with canonical SMILES**\n",
    "\n",
    "So far, we have multiple different molecular structure representations. We only want to keep the canonical SMILES."
   ]
  },
  {
   "cell_type": "code",
   "execution_count": 840,
   "id": "9be85ead-52f1-44df-a8a0-2176464bb7f9",
   "metadata": {
    "tags": []
   },
   "outputs": [
    {
     "data": {
      "text/plain": [
       "dict_keys(['canonical_smiles', 'molfile', 'standard_inchi', 'standard_inchi_key'])"
      ]
     },
     "execution_count": 840,
     "metadata": {},
     "output_type": "execute_result"
    }
   ],
   "source": [
    "compounds_df.iloc[0].molecule_structures.keys()"
   ]
  },
  {
   "cell_type": "code",
   "execution_count": 841,
   "id": "ce16bddf-1df3-4645-a7ec-333a39f1782e",
   "metadata": {
    "tags": []
   },
   "outputs": [
    {
     "name": "stdout",
     "output_type": "stream",
     "text": [
      "DataFrame shape: (1474, 2)\n"
     ]
    }
   ],
   "source": [
    "canonical_smiles = []\n",
    "\n",
    "for i, compounds in compounds_df.iterrows():\n",
    "    try:\n",
    "        canonical_smiles.append(compounds[\"molecule_structures\"][\"canonical_smiles\"])\n",
    "    except KeyError:\n",
    "        canonical_smiles.append(None)\n",
    "\n",
    "compounds_df[\"smiles\"] = canonical_smiles\n",
    "compounds_df.drop(\"molecule_structures\", axis=1, inplace=True)\n",
    "print(f\"DataFrame shape: {compounds_df.shape}\")"
   ]
  },
  {
   "cell_type": "markdown",
   "id": "00b41396-b6c5-4191-869c-f2e259932332",
   "metadata": {},
   "source": [
    "Sanity check: Remove all molecules without a canonical SMILES string."
   ]
  },
  {
   "cell_type": "code",
   "execution_count": 842,
   "id": "bf76c86d-7417-4557-93c2-1c8f94c0e9c6",
   "metadata": {
    "tags": []
   },
   "outputs": [
    {
     "name": "stdout",
     "output_type": "stream",
     "text": [
      "DataFrame shape: (1474, 2)\n"
     ]
    }
   ],
   "source": [
    "compounds_df.dropna(axis=0, how=\"any\", inplace=True)\n",
    "print(f\"DataFrame shape: {compounds_df.shape}\")"
   ]
  },
  {
   "cell_type": "markdown",
   "id": "e8ab4783-82c4-4473-afbd-57b924a40a9a",
   "metadata": {},
   "source": [
    "### Output (bioactivity-compound) data\n",
    "**Summary of compound and bioactivity data**"
   ]
  },
  {
   "cell_type": "code",
   "execution_count": 843,
   "id": "2afaeee3-6edd-409f-8a93-d1d8ed6c5890",
   "metadata": {
    "tags": []
   },
   "outputs": [
    {
     "name": "stdout",
     "output_type": "stream",
     "text": [
      "Bioactivities filtered: 1476\n"
     ]
    },
    {
     "data": {
      "text/plain": [
       "Index(['activity_id', 'assay_chembl_id', 'assay_description', 'assay_type',\n",
       "       'molecule_chembl_id', 'relation', 'units', 'IC50', 'target_chembl_id',\n",
       "       'target_organism', 'type'],\n",
       "      dtype='object')"
      ]
     },
     "execution_count": 843,
     "metadata": {},
     "output_type": "execute_result"
    }
   ],
   "source": [
    "print(f\"Bioactivities filtered: {bioactivities_df.shape[0]}\")\n",
    "bioactivities_df.columns"
   ]
  },
  {
   "cell_type": "code",
   "execution_count": 844,
   "id": "038ff031-c74b-449a-b9ee-fffc4aa4ee3c",
   "metadata": {
    "tags": []
   },
   "outputs": [
    {
     "name": "stdout",
     "output_type": "stream",
     "text": [
      "Compounds filtered: 1474\n"
     ]
    },
    {
     "data": {
      "text/plain": [
       "Index(['molecule_chembl_id', 'smiles'], dtype='object')"
      ]
     },
     "execution_count": 844,
     "metadata": {},
     "output_type": "execute_result"
    }
   ],
   "source": [
    "print(f\"Compounds filtered: {compounds_df.shape[0]}\")\n",
    "compounds_df.columns"
   ]
  },
  {
   "cell_type": "markdown",
   "id": "bb3f47bc-80a8-4f62-ae10-17ec98d2d9ff",
   "metadata": {},
   "source": [
    "#### Merge both datasets\n",
    "\n",
    "Merge values of interest from `bioactivities_df` and `compounds_df` in an `output_df` based on the compounds' ChEMBL IDs (`molecule_chembl_id`), keeping the following columns:\n",
    "\n",
    "* ChEMBL IDs: `molecule_chembl_id`\n",
    "* SMILES: `smiles`\n",
    "* units: `units`\n",
    "* IC50: `IC50`"
   ]
  },
  {
   "cell_type": "code",
   "execution_count": 845,
   "id": "d01e461d-7e8d-402d-b600-98c771409448",
   "metadata": {
    "tags": []
   },
   "outputs": [
    {
     "name": "stdout",
     "output_type": "stream",
     "text": [
      "Dataset with 1474 entries.\n"
     ]
    }
   ],
   "source": [
    "# Merge DataFrames\n",
    "output_df = pd.merge(\n",
    "    bioactivities_df[[\"molecule_chembl_id\", \"IC50\", \"units\"]],\n",
    "    compounds_df,\n",
    "    on=\"molecule_chembl_id\",\n",
    ")\n",
    "\n",
    "# Reset row indices\n",
    "output_df.reset_index(drop=True, inplace=True)\n",
    "\n",
    "print(f\"Dataset with {output_df.shape[0]} entries.\")"
   ]
  },
  {
   "cell_type": "code",
   "execution_count": 846,
   "id": "155470db-fa11-477a-b4ef-1c3a08200451",
   "metadata": {
    "tags": []
   },
   "outputs": [
    {
     "data": {
      "text/plain": [
       "molecule_chembl_id     object\n",
       "IC50                  float64\n",
       "units                  object\n",
       "smiles                 object\n",
       "dtype: object"
      ]
     },
     "execution_count": 846,
     "metadata": {},
     "output_type": "execute_result"
    }
   ],
   "source": [
    "output_df.dtypes"
   ]
  },
  {
   "cell_type": "code",
   "execution_count": 847,
   "id": "f847d5d9-e4b8-4e75-9c9d-67c97e2d0f4b",
   "metadata": {
    "tags": []
   },
   "outputs": [
    {
     "data": {
      "text/html": [
       "<div>\n",
       "<style scoped>\n",
       "    .dataframe tbody tr th:only-of-type {\n",
       "        vertical-align: middle;\n",
       "    }\n",
       "\n",
       "    .dataframe tbody tr th {\n",
       "        vertical-align: top;\n",
       "    }\n",
       "\n",
       "    .dataframe thead th {\n",
       "        text-align: right;\n",
       "    }\n",
       "</style>\n",
       "<table border=\"1\" class=\"dataframe\">\n",
       "  <thead>\n",
       "    <tr style=\"text-align: right;\">\n",
       "      <th></th>\n",
       "      <th>molecule_chembl_id</th>\n",
       "      <th>IC50</th>\n",
       "      <th>units</th>\n",
       "      <th>smiles</th>\n",
       "    </tr>\n",
       "  </thead>\n",
       "  <tbody>\n",
       "    <tr>\n",
       "      <th>0</th>\n",
       "      <td>CHEMBL13462</td>\n",
       "      <td>4000.0</td>\n",
       "      <td>nM</td>\n",
       "      <td>CC(=O)N[C@@H](Cc1ccc(OP(=O)(O)O)cc1)C(=O)N[C@@...</td>\n",
       "    </tr>\n",
       "    <tr>\n",
       "      <th>1</th>\n",
       "      <td>CHEMBL414123</td>\n",
       "      <td>15000.0</td>\n",
       "      <td>nM</td>\n",
       "      <td>CC[C@H](C)[C@H](NC(=O)[C@@H]1CCCN1C(=O)[C@@H](...</td>\n",
       "    </tr>\n",
       "    <tr>\n",
       "      <th>2</th>\n",
       "      <td>CHEMBL413629</td>\n",
       "      <td>1800.0</td>\n",
       "      <td>nM</td>\n",
       "      <td>CC[C@H](C)[C@H](NC(=O)[C@@H]1CCCN1C(=O)[C@@H](...</td>\n",
       "    </tr>\n",
       "    <tr>\n",
       "      <th>3</th>\n",
       "      <td>CHEMBL301845</td>\n",
       "      <td>15000.0</td>\n",
       "      <td>nM</td>\n",
       "      <td>CC[C@H](NC(=O)[C@H](Cc1ccc(OP(=O)(O)O)cc1)NC(C...</td>\n",
       "    </tr>\n",
       "    <tr>\n",
       "      <th>4</th>\n",
       "      <td>CHEMBL58478</td>\n",
       "      <td>1700.0</td>\n",
       "      <td>nM</td>\n",
       "      <td>CC(=O)N[C@@H](Cc1ccc(C(F)(F)P(=O)(O)O)cc1)C(=O...</td>\n",
       "    </tr>\n",
       "    <tr>\n",
       "      <th>5</th>\n",
       "      <td>CHEMBL298813</td>\n",
       "      <td>1600.0</td>\n",
       "      <td>nM</td>\n",
       "      <td>CC[C@H](NC(=O)[C@H](Cc1ccc(C(F)(F)P(=O)(O)O)cc...</td>\n",
       "    </tr>\n",
       "    <tr>\n",
       "      <th>6</th>\n",
       "      <td>CHEMBL293803</td>\n",
       "      <td>4900.0</td>\n",
       "      <td>nM</td>\n",
       "      <td>CC(=O)N[C@@H](Cc1ccc(OP(=O)(O)O)cc1)C(=O)N[C@@...</td>\n",
       "    </tr>\n",
       "    <tr>\n",
       "      <th>7</th>\n",
       "      <td>CHEMBL294692</td>\n",
       "      <td>1200.0</td>\n",
       "      <td>nM</td>\n",
       "      <td>CC(=O)N[C@@H](Cc1ccc(C(F)(F)P(=O)(O)O)cc1)C(=O...</td>\n",
       "    </tr>\n",
       "    <tr>\n",
       "      <th>8</th>\n",
       "      <td>CHEMBL294420</td>\n",
       "      <td>1200.0</td>\n",
       "      <td>nM</td>\n",
       "      <td>CC[C@H](C)[C@H](NC(=O)[C@H](CCC(=O)O)NC(=O)[C@...</td>\n",
       "    </tr>\n",
       "    <tr>\n",
       "      <th>9</th>\n",
       "      <td>CHEMBL299477</td>\n",
       "      <td>7900.0</td>\n",
       "      <td>nM</td>\n",
       "      <td>CC[C@H](C)[C@H](NC(=O)[C@H](CCC(=O)O)NC(=O)[C@...</td>\n",
       "    </tr>\n",
       "  </tbody>\n",
       "</table>\n",
       "</div>"
      ],
      "text/plain": [
       "  molecule_chembl_id     IC50 units  \\\n",
       "0        CHEMBL13462   4000.0    nM   \n",
       "1       CHEMBL414123  15000.0    nM   \n",
       "2       CHEMBL413629   1800.0    nM   \n",
       "3       CHEMBL301845  15000.0    nM   \n",
       "4        CHEMBL58478   1700.0    nM   \n",
       "5       CHEMBL298813   1600.0    nM   \n",
       "6       CHEMBL293803   4900.0    nM   \n",
       "7       CHEMBL294692   1200.0    nM   \n",
       "8       CHEMBL294420   1200.0    nM   \n",
       "9       CHEMBL299477   7900.0    nM   \n",
       "\n",
       "                                              smiles  \n",
       "0  CC(=O)N[C@@H](Cc1ccc(OP(=O)(O)O)cc1)C(=O)N[C@@...  \n",
       "1  CC[C@H](C)[C@H](NC(=O)[C@@H]1CCCN1C(=O)[C@@H](...  \n",
       "2  CC[C@H](C)[C@H](NC(=O)[C@@H]1CCCN1C(=O)[C@@H](...  \n",
       "3  CC[C@H](NC(=O)[C@H](Cc1ccc(OP(=O)(O)O)cc1)NC(C...  \n",
       "4  CC(=O)N[C@@H](Cc1ccc(C(F)(F)P(=O)(O)O)cc1)C(=O...  \n",
       "5  CC[C@H](NC(=O)[C@H](Cc1ccc(C(F)(F)P(=O)(O)O)cc...  \n",
       "6  CC(=O)N[C@@H](Cc1ccc(OP(=O)(O)O)cc1)C(=O)N[C@@...  \n",
       "7  CC(=O)N[C@@H](Cc1ccc(C(F)(F)P(=O)(O)O)cc1)C(=O...  \n",
       "8  CC[C@H](C)[C@H](NC(=O)[C@H](CCC(=O)O)NC(=O)[C@...  \n",
       "9  CC[C@H](C)[C@H](NC(=O)[C@H](CCC(=O)O)NC(=O)[C@...  "
      ]
     },
     "execution_count": 847,
     "metadata": {},
     "output_type": "execute_result"
    }
   ],
   "source": [
    "output_df.head(10)"
   ]
  },
  {
   "cell_type": "markdown",
   "id": "698b8ed9-669f-490e-a9a4-563346733924",
   "metadata": {},
   "source": [
    "#### Add pIC50 values"
   ]
  },
  {
   "cell_type": "markdown",
   "id": "183ed448-e597-4000-917a-594550813d22",
   "metadata": {},
   "source": [
    "As you can see the low IC50 values are difficult to read (values are distributed over multiple scales), which is why we convert the IC50 values to pIC50."
   ]
  },
  {
   "cell_type": "code",
   "execution_count": 848,
   "id": "f98192ad-7b8b-406d-9479-1f49419a793f",
   "metadata": {
    "tags": []
   },
   "outputs": [],
   "source": [
    "def convert_ic50_to_pic50(IC50_value):\n",
    "    pIC50_value = 9 - math.log10(IC50_value)\n",
    "    return pIC50_value"
   ]
  },
  {
   "cell_type": "code",
   "execution_count": 849,
   "id": "0a55c24d-d441-43d9-94eb-8b439ed8caa1",
   "metadata": {
    "tags": []
   },
   "outputs": [],
   "source": [
    "# Apply conversion to each row of the compounds DataFrame\n",
    "output_df[\"pIC50\"] = output_df.apply(lambda x: convert_ic50_to_pic50(x.IC50), axis=1)"
   ]
  },
  {
   "cell_type": "code",
   "execution_count": 850,
   "id": "66e8995a-4120-4884-9f62-2b9fa6f78085",
   "metadata": {
    "tags": []
   },
   "outputs": [
    {
     "data": {
      "text/html": [
       "<div>\n",
       "<style scoped>\n",
       "    .dataframe tbody tr th:only-of-type {\n",
       "        vertical-align: middle;\n",
       "    }\n",
       "\n",
       "    .dataframe tbody tr th {\n",
       "        vertical-align: top;\n",
       "    }\n",
       "\n",
       "    .dataframe thead th {\n",
       "        text-align: right;\n",
       "    }\n",
       "</style>\n",
       "<table border=\"1\" class=\"dataframe\">\n",
       "  <thead>\n",
       "    <tr style=\"text-align: right;\">\n",
       "      <th></th>\n",
       "      <th>molecule_chembl_id</th>\n",
       "      <th>IC50</th>\n",
       "      <th>units</th>\n",
       "      <th>smiles</th>\n",
       "      <th>pIC50</th>\n",
       "    </tr>\n",
       "  </thead>\n",
       "  <tbody>\n",
       "    <tr>\n",
       "      <th>0</th>\n",
       "      <td>CHEMBL13462</td>\n",
       "      <td>4000.0</td>\n",
       "      <td>nM</td>\n",
       "      <td>CC(=O)N[C@@H](Cc1ccc(OP(=O)(O)O)cc1)C(=O)N[C@@...</td>\n",
       "      <td>5.397940</td>\n",
       "    </tr>\n",
       "    <tr>\n",
       "      <th>1</th>\n",
       "      <td>CHEMBL414123</td>\n",
       "      <td>15000.0</td>\n",
       "      <td>nM</td>\n",
       "      <td>CC[C@H](C)[C@H](NC(=O)[C@@H]1CCCN1C(=O)[C@@H](...</td>\n",
       "      <td>4.823909</td>\n",
       "    </tr>\n",
       "    <tr>\n",
       "      <th>2</th>\n",
       "      <td>CHEMBL413629</td>\n",
       "      <td>1800.0</td>\n",
       "      <td>nM</td>\n",
       "      <td>CC[C@H](C)[C@H](NC(=O)[C@@H]1CCCN1C(=O)[C@@H](...</td>\n",
       "      <td>5.744727</td>\n",
       "    </tr>\n",
       "    <tr>\n",
       "      <th>3</th>\n",
       "      <td>CHEMBL301845</td>\n",
       "      <td>15000.0</td>\n",
       "      <td>nM</td>\n",
       "      <td>CC[C@H](NC(=O)[C@H](Cc1ccc(OP(=O)(O)O)cc1)NC(C...</td>\n",
       "      <td>4.823909</td>\n",
       "    </tr>\n",
       "    <tr>\n",
       "      <th>4</th>\n",
       "      <td>CHEMBL58478</td>\n",
       "      <td>1700.0</td>\n",
       "      <td>nM</td>\n",
       "      <td>CC(=O)N[C@@H](Cc1ccc(C(F)(F)P(=O)(O)O)cc1)C(=O...</td>\n",
       "      <td>5.769551</td>\n",
       "    </tr>\n",
       "  </tbody>\n",
       "</table>\n",
       "</div>"
      ],
      "text/plain": [
       "  molecule_chembl_id     IC50 units  \\\n",
       "0        CHEMBL13462   4000.0    nM   \n",
       "1       CHEMBL414123  15000.0    nM   \n",
       "2       CHEMBL413629   1800.0    nM   \n",
       "3       CHEMBL301845  15000.0    nM   \n",
       "4        CHEMBL58478   1700.0    nM   \n",
       "\n",
       "                                              smiles     pIC50  \n",
       "0  CC(=O)N[C@@H](Cc1ccc(OP(=O)(O)O)cc1)C(=O)N[C@@...  5.397940  \n",
       "1  CC[C@H](C)[C@H](NC(=O)[C@@H]1CCCN1C(=O)[C@@H](...  4.823909  \n",
       "2  CC[C@H](C)[C@H](NC(=O)[C@@H]1CCCN1C(=O)[C@@H](...  5.744727  \n",
       "3  CC[C@H](NC(=O)[C@H](Cc1ccc(OP(=O)(O)O)cc1)NC(C...  4.823909  \n",
       "4  CC(=O)N[C@@H](Cc1ccc(C(F)(F)P(=O)(O)O)cc1)C(=O...  5.769551  "
      ]
     },
     "execution_count": 850,
     "metadata": {},
     "output_type": "execute_result"
    }
   ],
   "source": [
    "output_df.head()"
   ]
  },
  {
   "cell_type": "markdown",
   "id": "f031546c-49ba-48f0-b65c-fb0424ce57d1",
   "metadata": {},
   "source": [
    "#### Draw compound data\n",
    "\n",
    "Let's have a look at our collected data set.\n",
    "\n",
    "First, we plot the pIC50 value distribution as well as the median pIC50 which will be useful for classification thresholds"
   ]
  },
  {
   "cell_type": "code",
   "execution_count": 851,
   "id": "50207b9e-2031-4b8f-9488-fdb8fb03d35d",
   "metadata": {
    "tags": []
   },
   "outputs": [
    {
     "data": {
      "image/png": "[encoded data removed]",
      "text/plain": [
       "<Figure size 1000x1000 with 1 Axes>"
      ]
     },
     "metadata": {},
     "output_type": "display_data"
    }
   ],
   "source": [
    "import matplotlib.pyplot as plt\n",
    "\n",
    "# Create the histogram\n",
    "plt.hist(output_df['pIC50'], bins=10, edgecolor='black', alpha=0.7)\n",
    "\n",
    "# Calculate the median of the \"pIC50\" column\n",
    "median_pIC50 = output_df['pIC50'].median()\n",
    "\n",
    "# Add a vertical line for the median\n",
    "plt.axvline(median_pIC50, color='red', linestyle='dashed', linewidth=1)\n",
    "\n",
    "# Add labels and title\n",
    "plt.xlabel('pIC50')\n",
    "plt.ylabel('Frequency')\n",
    "plt.title('Histogram of pIC50 with Median')\n",
    "\n",
    "# Display the plot\n",
    "plt.show()\n"
   ]
  },
  {
   "cell_type": "markdown",
   "id": "7f3fd157-98e8-465d-8599-9bd09cd6c90e",
   "metadata": {},
   "source": [
    "In the next steps, we add a column for RDKit molecule objects to our `DataFrame` and look at the structures of the molecules with the highest pIC50 values. "
   ]
  },
  {
   "cell_type": "code",
   "execution_count": 852,
   "id": "4ec45151-b94c-4c6a-9c2e-8458c3dbc2a8",
   "metadata": {
    "tags": []
   },
   "outputs": [],
   "source": [
    "# Add molecule column\n",
    "PandasTools.AddMoleculeColumnToFrame(output_df, smilesCol=\"smiles\")"
   ]
  },
  {
   "cell_type": "code",
   "execution_count": 853,
   "id": "1f9da065-7c6f-46e2-a504-04ab416456bc",
   "metadata": {
    "tags": []
   },
   "outputs": [],
   "source": [
    "# Sort molecules by pIC50\n",
    "output_df.sort_values(by=\"pIC50\", ascending=False, inplace=True)\n",
    "\n",
    "# Reset index\n",
    "output_df.reset_index(drop=True, inplace=True)"
   ]
  },
  {
   "cell_type": "markdown",
   "id": "dacc3cff-1287-4e31-97a2-f6b95f28da2a",
   "metadata": {},
   "source": [
    "Show the three most active molecules, i.e. molecules with the highest pIC50 values."
   ]
  },
  {
   "cell_type": "code",
   "execution_count": 854,
   "id": "a53293ff-e86c-4b87-a904-09d6695d07f2",
   "metadata": {
    "tags": []
   },
   "outputs": [
    {
     "data": {
      "text/html": [
       "<div>\n",
       "<style scoped>\n",
       "    .dataframe tbody tr th:only-of-type {\n",
       "        vertical-align: middle;\n",
       "    }\n",
       "\n",
       "    .dataframe tbody tr th {\n",
       "        vertical-align: top;\n",
       "    }\n",
       "\n",
       "    .dataframe thead th {\n",
       "        text-align: right;\n",
       "    }\n",
       "</style>\n",
       "<table border=\"1\" class=\"dataframe\">\n",
       "  <thead>\n",
       "    <tr style=\"text-align: right;\">\n",
       "      <th></th>\n",
       "      <th>molecule_chembl_id</th>\n",
       "      <th>IC50</th>\n",
       "      <th>units</th>\n",
       "      <th>pIC50</th>\n",
       "      <th>ROMol</th>\n",
       "    </tr>\n",
       "  </thead>\n",
       "  <tbody>\n",
       "    <tr>\n",
       "      <th>0</th>\n",
       "      <td>CHEMBL2347725</td>\n",
       "      <td>0.015</td>\n",
       "      <td>nM</td>\n",
       "      <td>10.823909</td>\n",
       "      <td>&lt;rdkit.Chem.rdchem.Mol object at 0x2dd91ca50&gt;</td>\n",
       "    </tr>\n",
       "    <tr>\n",
       "      <th>1</th>\n",
       "      <td>CHEMBL2347722</td>\n",
       "      <td>0.021</td>\n",
       "      <td>nM</td>\n",
       "      <td>10.677781</td>\n",
       "      <td>&lt;rdkit.Chem.rdchem.Mol object at 0x2dd91cba0&gt;</td>\n",
       "    </tr>\n",
       "    <tr>\n",
       "      <th>2</th>\n",
       "      <td>CHEMBL2347723</td>\n",
       "      <td>0.064</td>\n",
       "      <td>nM</td>\n",
       "      <td>10.193820</td>\n",
       "      <td>&lt;rdkit.Chem.rdchem.Mol object at 0x2dd91cb30&gt;</td>\n",
       "    </tr>\n",
       "  </tbody>\n",
       "</table>\n",
       "</div>"
      ],
      "text/plain": [
       "  molecule_chembl_id   IC50 units      pIC50  \\\n",
       "0      CHEMBL2347725  0.015    nM  10.823909   \n",
       "1      CHEMBL2347722  0.021    nM  10.677781   \n",
       "2      CHEMBL2347723  0.064    nM  10.193820   \n",
       "\n",
       "                                           ROMol  \n",
       "0  <rdkit.Chem.rdchem.Mol object at 0x2dd91ca50>  \n",
       "1  <rdkit.Chem.rdchem.Mol object at 0x2dd91cba0>  \n",
       "2  <rdkit.Chem.rdchem.Mol object at 0x2dd91cb30>  "
      ]
     },
     "execution_count": 854,
     "metadata": {},
     "output_type": "execute_result"
    }
   ],
   "source": [
    "output_df.drop(\"smiles\", axis=1).head(3)"
   ]
  },
  {
   "cell_type": "markdown",
   "id": "de7dd13f-53bf-4933-80f3-fb3b9e50cc01",
   "metadata": {},
   "source": [
    "### Uncomment if you want to remove the ROMol column"
   ]
  },
  {
   "cell_type": "code",
   "execution_count": 855,
   "id": "3dd333f2-4a6b-4058-be71-0ce1e3f54a92",
   "metadata": {
    "tags": []
   },
   "outputs": [],
   "source": [
    "# Prepare saving the dataset: Drop the ROMol column\n",
    "#output_df = output_df.drop(\"ROMol\", axis=1)\n",
    "#print(f\"DataFrame shape: {output_df.shape}\")"
   ]
  },
  {
   "cell_type": "code",
   "execution_count": 856,
   "id": "867eef49-4fc4-4da7-baa3-38c6fb6993d1",
   "metadata": {
    "tags": []
   },
   "outputs": [
    {
     "data": {
      "text/html": [
       "<div>\n",
       "<style scoped>\n",
       "    .dataframe tbody tr th:only-of-type {\n",
       "        vertical-align: middle;\n",
       "    }\n",
       "\n",
       "    .dataframe tbody tr th {\n",
       "        vertical-align: top;\n",
       "    }\n",
       "\n",
       "    .dataframe thead th {\n",
       "        text-align: right;\n",
       "    }\n",
       "</style>\n",
       "<table border=\"1\" class=\"dataframe\">\n",
       "  <thead>\n",
       "    <tr style=\"text-align: right;\">\n",
       "      <th></th>\n",
       "      <th>molecule_chembl_id</th>\n",
       "      <th>IC50</th>\n",
       "      <th>units</th>\n",
       "      <th>smiles</th>\n",
       "      <th>pIC50</th>\n",
       "      <th>ROMol</th>\n",
       "    </tr>\n",
       "  </thead>\n",
       "  <tbody>\n",
       "    <tr>\n",
       "      <th>0</th>\n",
       "      <td>CHEMBL2347725</td>\n",
       "      <td>0.015</td>\n",
       "      <td>nM</td>\n",
       "      <td>COc1ccccc1-c1ccc2nc(NC(=O)NCCN3CCN(C)CC3)sc2c1</td>\n",
       "      <td>10.823909</td>\n",
       "      <td style=\"text-align: center;\"><div style=\"width: 200px; height: 200px\" data-content=\"rdkit/molecule\"><img src=\"data:image/png;base64,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\" alt=\"Mol\"/></div></td>\n",
       "    </tr>\n",
       "    <tr>\n",
       "      <th>1</th>\n",
       "      <td>CHEMBL2347722</td>\n",
       "      <td>0.021</td>\n",
       "      <td>nM</td>\n",
       "      <td>COc1ccccc1-c1ccc2nc(NC(=O)NCCN3CCOCC3)sc2c1</td>\n",
       "      <td>10.677781</td>\n",
       "      <td style=\"text-align: center;\"><div style=\"width: 200px; height: 200px\" data-content=\"rdkit/molecule\"><img src=\"data:image/png;base64,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\" alt=\"Mol\"/></div></td>\n",
       "    </tr>\n",
       "    <tr>\n",
       "      <th>2</th>\n",
       "      <td>CHEMBL2347723</td>\n",
       "      <td>0.064</td>\n",
       "      <td>nM</td>\n",
       "      <td>COc1ccccc1-c1ccc2nc(NC(=O)NCCO)sc2c1</td>\n",
       "      <td>10.193820</td>\n",
       "      <td style=\"text-align: center;\"><div style=\"width: 200px; height: 200px\" data-content=\"rdkit/molecule\"><img src=\"data:image/png;base64,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\" alt=\"Mol\"/></div></td>\n",
       "    </tr>\n",
       "    <tr>\n",
       "      <th>3</th>\n",
       "      <td>CHEMBL2347711</td>\n",
       "      <td>0.064</td>\n",
       "      <td>nM</td>\n",
       "      <td>CCNC(=O)Nc1nc2ccc(-c3ccccc3OCC)cc2s1</td>\n",
       "      <td>10.193820</td>\n",
       "      <td style=\"text-align: center;\"><div style=\"width: 200px; height: 200px\" data-content=\"rdkit/molecule\"><img src=\"data:image/png;base64,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\" alt=\"Mol\"/></div></td>\n",
       "    </tr>\n",
       "    <tr>\n",
       "      <th>4</th>\n",
       "      <td>CHEMBL2347719</td>\n",
       "      <td>0.110</td>\n",
       "      <td>nM</td>\n",
       "      <td>CCNC(=O)Nc1nc2ccc(-c3ccc(N)cc3OC)cc2s1</td>\n",
       "      <td>9.958607</td>\n",
       "      <td style=\"text-align: center;\"><div style=\"width: 200px; height: 200px\" data-content=\"rdkit/molecule\"><img src=\"data:image/png;base64,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\" alt=\"Mol\"/></div></td>\n",
       "    </tr>\n",
       "    <tr>\n",
       "      <th>...</th>\n",
       "      <td>...</td>\n",
       "      <td>...</td>\n",
       "      <td>...</td>\n",
       "      <td>...</td>\n",
       "      <td>...</td>\n",
       "      <td>...</td>\n",
       "    </tr>\n",
       "    <tr>\n",
       "      <th>1469</th>\n",
       "      <td>CHEMBL551838</td>\n",
       "      <td>236000.000</td>\n",
       "      <td>nM</td>\n",
       "      <td>Cc1ccc(C(=O)Nc2cc(C(F)(F)F)ccc2F)cc1/C=C/n1cnc...</td>\n",
       "      <td>3.627088</td>\n",
       "      <td style=\"text-align: center;\"><div style=\"width: 200px; height: 200px\" data-content=\"rdkit/molecule\"><img src=\"data:image/png;base64,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\" alt=\"Mol\"/></div></td>\n",
       "    </tr>\n",
       "    <tr>\n",
       "      <th>1470</th>\n",
       "      <td>CHEMBL551030</td>\n",
       "      <td>243000.000</td>\n",
       "      <td>nM</td>\n",
       "      <td>Cc1ccc(NC(=O)c2cccc(C(F)(F)F)c2)cc1/C=C/n1cnc2...</td>\n",
       "      <td>3.614394</td>\n",
       "      <td style=\"text-align: center;\"><div style=\"width: 200px; height: 200px\" data-content=\"rdkit/molecule\"><img src=\"data:image/png;base64,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\" alt=\"Mol\"/></div></td>\n",
       "    </tr>\n",
       "    <tr>\n",
       "      <th>1471</th>\n",
       "      <td>CHEMBL559438</td>\n",
       "      <td>267000.000</td>\n",
       "      <td>nM</td>\n",
       "      <td>Cc1ccc(C(=O)Nc2ncc(C(C)(C)C)s2)cc1/C=C/n1cnc2c...</td>\n",
       "      <td>3.573489</td>\n",
       "      <td style=\"text-align: center;\"><div style=\"width: 200px; height: 200px\" data-content=\"rdkit/molecule\"><img src=\"data:image/png;base64,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\" alt=\"Mol\"/></div></td>\n",
       "    </tr>\n",
       "    <tr>\n",
       "      <th>1472</th>\n",
       "      <td>CHEMBL3105076</td>\n",
       "      <td>380000.000</td>\n",
       "      <td>nM</td>\n",
       "      <td>Nc1ncnc2[nH]c(C(F)(F)F)nc12</td>\n",
       "      <td>3.420216</td>\n",
       "      <td style=\"text-align: center;\"><div style=\"width: 200px; height: 200px\" data-content=\"rdkit/molecule\"><img src=\"data:image/png;base64,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\" alt=\"Mol\"/></div></td>\n",
       "    </tr>\n",
       "    <tr>\n",
       "      <th>1473</th>\n",
       "      <td>CHEMBL1290072</td>\n",
       "      <td>392000.000</td>\n",
       "      <td>nM</td>\n",
       "      <td>COc1ccc(CNc2ccnc3oc4ccccc4c23)cc1</td>\n",
       "      <td>3.406714</td>\n",
       "      <td style=\"text-align: center;\"><div style=\"width: 200px; height: 200px\" data-content=\"rdkit/molecule\"><img src=\"data:image/png;base64,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\" alt=\"Mol\"/></div></td>\n",
       "    </tr>\n",
       "  </tbody>\n",
       "</table>\n",
       "<p>1474 rows × 6 columns</p>\n",
       "</div>"
      ],
      "text/plain": [
       "     molecule_chembl_id        IC50 units  \\\n",
       "0         CHEMBL2347725       0.015    nM   \n",
       "1         CHEMBL2347722       0.021    nM   \n",
       "2         CHEMBL2347723       0.064    nM   \n",
       "3         CHEMBL2347711       0.064    nM   \n",
       "4         CHEMBL2347719       0.110    nM   \n",
       "...                 ...         ...   ...   \n",
       "1469       CHEMBL551838  236000.000    nM   \n",
       "1470       CHEMBL551030  243000.000    nM   \n",
       "1471       CHEMBL559438  267000.000    nM   \n",
       "1472      CHEMBL3105076  380000.000    nM   \n",
       "1473      CHEMBL1290072  392000.000    nM   \n",
       "\n",
       "                                                 smiles      pIC50  \\\n",
       "0        COc1ccccc1-c1ccc2nc(NC(=O)NCCN3CCN(C)CC3)sc2c1  10.823909   \n",
       "1           COc1ccccc1-c1ccc2nc(NC(=O)NCCN3CCOCC3)sc2c1  10.677781   \n",
       "2                  COc1ccccc1-c1ccc2nc(NC(=O)NCCO)sc2c1  10.193820   \n",
       "3                  CCNC(=O)Nc1nc2ccc(-c3ccccc3OCC)cc2s1  10.193820   \n",
       "4                CCNC(=O)Nc1nc2ccc(-c3ccc(N)cc3OC)cc2s1   9.958607   \n",
       "...                                                 ...        ...   \n",
       "1469  Cc1ccc(C(=O)Nc2cc(C(F)(F)F)ccc2F)cc1/C=C/n1cnc...   3.627088   \n",
       "1470  Cc1ccc(NC(=O)c2cccc(C(F)(F)F)c2)cc1/C=C/n1cnc2...   3.614394   \n",
       "1471  Cc1ccc(C(=O)Nc2ncc(C(C)(C)C)s2)cc1/C=C/n1cnc2c...   3.573489   \n",
       "1472                        Nc1ncnc2[nH]c(C(F)(F)F)nc12   3.420216   \n",
       "1473                  COc1ccc(CNc2ccnc3oc4ccccc4c23)cc1   3.406714   \n",
       "\n",
       "                                              ROMol  \n",
       "0     <rdkit.Chem.rdchem.Mol object at 0x2dd91ca50>  \n",
       "1     <rdkit.Chem.rdchem.Mol object at 0x2dd91cba0>  \n",
       "2     <rdkit.Chem.rdchem.Mol object at 0x2dd91cb30>  \n",
       "3     <rdkit.Chem.rdchem.Mol object at 0x2dd91d070>  \n",
       "4     <rdkit.Chem.rdchem.Mol object at 0x2dd91ccf0>  \n",
       "...                                             ...  \n",
       "1469  <rdkit.Chem.rdchem.Mol object at 0x2d81c0f90>  \n",
       "1470  <rdkit.Chem.rdchem.Mol object at 0x2d81c0c10>  \n",
       "1471  <rdkit.Chem.rdchem.Mol object at 0x2d81c1150>  \n",
       "1472  <rdkit.Chem.rdchem.Mol object at 0x2dd902ce0>  \n",
       "1473  <rdkit.Chem.rdchem.Mol object at 0x2dd908ac0>  \n",
       "\n",
       "[1474 rows x 6 columns]"
      ]
     },
     "execution_count": 856,
     "metadata": {},
     "output_type": "execute_result"
    }
   ],
   "source": [
    "output_df"
   ]
  },
  {
   "cell_type": "markdown",
   "id": "16e4e13f-311f-48f8-b8a4-85f222394352",
   "metadata": {
    "tags": []
   },
   "source": [
    "#### Apply physchem filters\n",
    "Considering a typical user might try multiple Uniprot IDs, I thought it would make sense to add some physchem filters to avoid peptides or other unwanted structures.\n",
    "Users are encouraged to change such parameters to suit their applications best."
   ]
  },
  {
   "cell_type": "code",
   "execution_count": 910,
   "id": "28ff095a-e34c-41fe-9906-a1f42a1aba85",
   "metadata": {
    "tags": []
   },
   "outputs": [],
   "source": [
    "def check_lipinski_rule(smiles):\n",
    "    mol = Chem.MolFromSmiles(smiles)\n",
    "    if mol:\n",
    "        mw = Descriptors.MolWt(mol)\n",
    "        hbd = Descriptors.NumHDonors(mol)\n",
    "        hba = Descriptors.NumHAcceptors(mol)\n",
    "        logp = Descriptors.MolLogP(mol)\n",
    "        tpsa = Descriptors.TPSA(mol)\n",
    "        return mw <= 700 and logp <= 5 and hbd <= 5 and hba <= 10 and tpsa <=120\n",
    "    return False"
   ]
  },
  {
   "cell_type": "code",
   "execution_count": 858,
   "id": "298e769e-b45b-4269-9f6e-8c8f1b1f2615",
   "metadata": {
    "tags": []
   },
   "outputs": [],
   "source": [
    "output_df['Passes_Lipinski'] = output_df['smiles'].apply(check_lipinski_rule)\n"
   ]
  },
  {
   "cell_type": "code",
   "execution_count": 859,
   "id": "3768127c-8a29-4068-8697-0aef71b659fe",
   "metadata": {
    "tags": []
   },
   "outputs": [],
   "source": [
    "passed_molecules_df = output_df[output_df['Passes_Lipinski']]\n"
   ]
  },
  {
   "cell_type": "code",
   "execution_count": 888,
   "id": "dd6a58ef-d95b-4c15-bc9e-4c8e72e4f759",
   "metadata": {
    "tags": []
   },
   "outputs": [],
   "source": [
    "#passed_molecules_df"
   ]
  },
  {
   "cell_type": "code",
   "execution_count": 861,
   "id": "6da7ce7f-c9af-41ae-b211-727a81e391f1",
   "metadata": {
    "tags": []
   },
   "outputs": [
    {
     "data": {
      "text/plain": [
       "Passes_Lipinski\n",
       "True     1046\n",
       "False     428\n",
       "Name: count, dtype: int64"
      ]
     },
     "execution_count": 861,
     "metadata": {},
     "output_type": "execute_result"
    }
   ],
   "source": [
    "output_df['Passes_Lipinski'].value_counts()"
   ]
  },
  {
   "cell_type": "markdown",
   "id": "f4a61131-6c23-47f5-a624-a76c40278fcb",
   "metadata": {
    "tags": []
   },
   "source": [
    "#### Write output data to file\n",
    "\n",
    "Save both the unfiltered and filtered sets using the chembl_id as prefix."
   ]
  },
  {
   "cell_type": "code",
   "execution_count": 899,
   "id": "bba044b6-caa4-4ffb-9e8b-a32d2095995e",
   "metadata": {
    "scrolled": true,
    "tags": []
   },
   "outputs": [],
   "source": [
    "output_df.to_csv(f'{uniprot_id}_unfiltered.csv')"
   ]
  },
  {
   "cell_type": "code",
   "execution_count": 898,
   "id": "e5e876f6-287d-429b-bc08-f2212272da2b",
   "metadata": {
    "tags": []
   },
   "outputs": [],
   "source": [
    "passed_molecules_df.to_csv(f'{uniprot_id}_filtered.csv')"
   ]
  },
  {
   "cell_type": "code",
   "execution_count": 864,
   "id": "860dc490-42e2-4f64-84af-d2cfba7f67c0",
   "metadata": {
    "tags": []
   },
   "outputs": [
    {
     "name": "stdout",
     "output_type": "stream",
     "text": [
      "DataFrame shape: (1474, 7)\n"
     ]
    }
   ],
   "source": [
    "print(f\"DataFrame shape: {output_df.shape}\")"
   ]
  },
  {
   "cell_type": "code",
   "execution_count": null,
   "id": "2d595fba-d60e-41d8-a689-6520f5884d6c",
   "metadata": {
    "tags": []
   },
   "outputs": [],
   "source": []
  },
  {
   "cell_type": "markdown",
   "id": "77604920-4ddb-44e0-93d0-fb6ad0628d8a",
   "metadata": {
    "tags": []
   },
   "source": [
    "## Import libraries for Regression and Classification models\n",
    "\n",
    "In this example, Random forest and SVM are used for regression and classification.\n",
    "Fingerprints are calculated using RDKIT.\n",
    "For the classification model, we will use the median of pIC50 as activity threshold."
   ]
  },
  {
   "cell_type": "code",
   "execution_count": 865,
   "id": "6accd3b1-9f56-432a-b113-bf9e3f06cbe8",
   "metadata": {
    "tags": []
   },
   "outputs": [],
   "source": [
    "from rdkit import Chem\n",
    "from rdkit.Chem import AllChem\n",
    "from rdkit.Chem import rdFingerprintGenerator\n",
    "from sklearn.pipeline import Pipeline\n",
    "from sklearn.preprocessing import StandardScaler\n",
    "from sklearn.model_selection import train_test_split, StratifiedShuffleSplit, cross_validate\n",
    "from sklearn.base import BaseEstimator, ClassifierMixin\n",
    "from sklearn.metrics import ConfusionMatrixDisplay, accuracy_score, matthews_corrcoef, precision_score, recall_score, roc_auc_score, classification_report, ConfusionMatrixDisplay\n",
    "from sklearn.ensemble import RandomForestRegressor\n",
    "from sklearn.metrics import mean_squared_error\n",
    "from sklearn.svm import SVC\n"
   ]
  },
  {
   "cell_type": "markdown",
   "id": "f58d5f20-0da5-42f9-8809-c8ea01caa8cc",
   "metadata": {},
   "source": [
    "### Calculate Molecular Fingerprints"
   ]
  },
  {
   "cell_type": "code",
   "execution_count": 866,
   "id": "e4a54fc2-942e-4aa6-81a5-415ff9247697",
   "metadata": {
    "tags": []
   },
   "outputs": [],
   "source": [
    "generator = rdFingerprintGenerator.GetMorganGenerator(radius=3, fpSize=1024, includeChirality=True)"
   ]
  },
  {
   "cell_type": "code",
   "execution_count": 867,
   "id": "7995538f-93ec-48b6-bf07-4533cf0b2489",
   "metadata": {
    "tags": []
   },
   "outputs": [],
   "source": [
    "X = np.stack([generator.GetCountFingerprintAsNumPy(Chem.MolFromSmiles(x)) for x in passed_molecules_df[\"smiles\"]])"
   ]
  },
  {
   "cell_type": "code",
   "execution_count": 868,
   "id": "d700ef5b-9a76-44bb-8824-f1820cb5ae5b",
   "metadata": {
    "tags": []
   },
   "outputs": [],
   "source": [
    "Y = passed_molecules_df['pIC50'].values"
   ]
  },
  {
   "cell_type": "markdown",
   "id": "59d46f08-b63e-4db6-90fa-fbb75269d8df",
   "metadata": {
    "tags": []
   },
   "source": [
    "### Prepare Training and Testing set"
   ]
  },
  {
   "cell_type": "code",
   "execution_count": 869,
   "id": "471ff084-4105-4e85-a59b-6ffdd6e87ecc",
   "metadata": {
    "tags": []
   },
   "outputs": [],
   "source": [
    "X_train, X_test, y_train, y_test = train_test_split(X, Y, random_state=42, test_size=0.2)"
   ]
  },
  {
   "cell_type": "markdown",
   "id": "3cb68007-ffd7-4dd1-bf8c-e20316cc057e",
   "metadata": {},
   "source": [
    "### Train Random Forest Regression model and calculate MSE"
   ]
  },
  {
   "cell_type": "code",
   "execution_count": 870,
   "id": "3621c64a-a222-4257-a02f-bd29b1eaf19d",
   "metadata": {
    "tags": []
   },
   "outputs": [],
   "source": [
    "rf_regressor = RandomForestRegressor(n_estimators=100, random_state=42)\n"
   ]
  },
  {
   "cell_type": "code",
   "execution_count": 871,
   "id": "b6db04b3-d72c-4ba8-9236-6d99b31d7b30",
   "metadata": {
    "tags": []
   },
   "outputs": [
    {
     "data": {
      "text/html": [
       "<style>#sk-container-id-32 {color: black;}#sk-container-id-32 pre{padding: 0;}#sk-container-id-32 div.sk-toggleable {background-color: white;}#sk-container-id-32 label.sk-toggleable__label {cursor: pointer;display: block;width: 100%;margin-bottom: 0;padding: 0.3em;box-sizing: border-box;text-align: center;}#sk-container-id-32 label.sk-toggleable__label-arrow:before {content: \"▸\";float: left;margin-right: 0.25em;color: #696969;}#sk-container-id-32 label.sk-toggleable__label-arrow:hover:before {color: black;}#sk-container-id-32 div.sk-estimator:hover label.sk-toggleable__label-arrow:before {color: black;}#sk-container-id-32 div.sk-toggleable__content {max-height: 0;max-width: 0;overflow: hidden;text-align: left;background-color: #f0f8ff;}#sk-container-id-32 div.sk-toggleable__content pre {margin: 0.2em;color: black;border-radius: 0.25em;background-color: #f0f8ff;}#sk-container-id-32 input.sk-toggleable__control:checked~div.sk-toggleable__content {max-height: 200px;max-width: 100%;overflow: auto;}#sk-container-id-32 input.sk-toggleable__control:checked~label.sk-toggleable__label-arrow:before {content: \"▾\";}#sk-container-id-32 div.sk-estimator input.sk-toggleable__control:checked~label.sk-toggleable__label {background-color: #d4ebff;}#sk-container-id-32 div.sk-label input.sk-toggleable__control:checked~label.sk-toggleable__label {background-color: #d4ebff;}#sk-container-id-32 input.sk-hidden--visually {border: 0;clip: rect(1px 1px 1px 1px);clip: rect(1px, 1px, 1px, 1px);height: 1px;margin: -1px;overflow: hidden;padding: 0;position: absolute;width: 1px;}#sk-container-id-32 div.sk-estimator {font-family: monospace;background-color: #f0f8ff;border: 1px dotted black;border-radius: 0.25em;box-sizing: border-box;margin-bottom: 0.5em;}#sk-container-id-32 div.sk-estimator:hover {background-color: #d4ebff;}#sk-container-id-32 div.sk-parallel-item::after {content: \"\";width: 100%;border-bottom: 1px solid gray;flex-grow: 1;}#sk-container-id-32 div.sk-label:hover label.sk-toggleable__label {background-color: #d4ebff;}#sk-container-id-32 div.sk-serial::before {content: \"\";position: absolute;border-left: 1px solid gray;box-sizing: border-box;top: 0;bottom: 0;left: 50%;z-index: 0;}#sk-container-id-32 div.sk-serial {display: flex;flex-direction: column;align-items: center;background-color: white;padding-right: 0.2em;padding-left: 0.2em;position: relative;}#sk-container-id-32 div.sk-item {position: relative;z-index: 1;}#sk-container-id-32 div.sk-parallel {display: flex;align-items: stretch;justify-content: center;background-color: white;position: relative;}#sk-container-id-32 div.sk-item::before, #sk-container-id-32 div.sk-parallel-item::before {content: \"\";position: absolute;border-left: 1px solid gray;box-sizing: border-box;top: 0;bottom: 0;left: 50%;z-index: -1;}#sk-container-id-32 div.sk-parallel-item {display: flex;flex-direction: column;z-index: 1;position: relative;background-color: white;}#sk-container-id-32 div.sk-parallel-item:first-child::after {align-self: flex-end;width: 50%;}#sk-container-id-32 div.sk-parallel-item:last-child::after {align-self: flex-start;width: 50%;}#sk-container-id-32 div.sk-parallel-item:only-child::after {width: 0;}#sk-container-id-32 div.sk-dashed-wrapped {border: 1px dashed gray;margin: 0 0.4em 0.5em 0.4em;box-sizing: border-box;padding-bottom: 0.4em;background-color: white;}#sk-container-id-32 div.sk-label label {font-family: monospace;font-weight: bold;display: inline-block;line-height: 1.2em;}#sk-container-id-32 div.sk-label-container {text-align: center;}#sk-container-id-32 div.sk-container {/* jupyter's `normalize.less` sets `[hidden] { display: none; }` but bootstrap.min.css set `[hidden] { display: none !important; }` so we also need the `!important` here to be able to override the default hidden behavior on the sphinx rendered scikit-learn.org. See: https://github.com/scikit-learn/scikit-learn/issues/21755 */display: inline-block !important;position: relative;}#sk-container-id-32 div.sk-text-repr-fallback {display: none;}</style><div id=\"sk-container-id-32\" class=\"sk-top-container\"><div class=\"sk-text-repr-fallback\"><pre>RandomForestRegressor(random_state=42)</pre><b>In a Jupyter environment, please rerun this cell to show the HTML representation or trust the notebook. <br />On GitHub, the HTML representation is unable to render, please try loading this page with nbviewer.org.</b></div><div class=\"sk-container\" hidden><div class=\"sk-item\"><div class=\"sk-estimator sk-toggleable\"><input class=\"sk-toggleable__control sk-hidden--visually\" id=\"sk-estimator-id-32\" type=\"checkbox\" checked><label for=\"sk-estimator-id-32\" class=\"sk-toggleable__label sk-toggleable__label-arrow\">RandomForestRegressor</label><div class=\"sk-toggleable__content\"><pre>RandomForestRegressor(random_state=42)</pre></div></div></div></div></div>"
      ],
      "text/plain": [
       "RandomForestRegressor(random_state=42)"
      ]
     },
     "execution_count": 871,
     "metadata": {},
     "output_type": "execute_result"
    }
   ],
   "source": [
    "rf_regressor.fit(X_train, y_train)\n"
   ]
  },
  {
   "cell_type": "code",
   "execution_count": 872,
   "id": "7cc02887-c946-4263-ac0d-78a7522cc5ea",
   "metadata": {
    "tags": []
   },
   "outputs": [],
   "source": [
    "y_pred = rf_regressor.predict(X_test)\n"
   ]
  },
  {
   "cell_type": "code",
   "execution_count": 873,
   "id": "fd0a5ced-9275-429d-a9f7-71897fda7ef9",
   "metadata": {
    "tags": []
   },
   "outputs": [
    {
     "name": "stdout",
     "output_type": "stream",
     "text": [
      "0.5336607016539845\n"
     ]
    }
   ],
   "source": [
    "mse = mean_squared_error(y_test, y_pred)\n",
    "print(mse)\n"
   ]
  },
  {
   "cell_type": "markdown",
   "id": "e087916f-6bd6-4d48-8401-98a54cc2f79e",
   "metadata": {},
   "source": [
    "### Define classification labels based on median pIC50\n",
    "Molecules with pIC50 above the median will be considered as class \"1\" otherwise as \"0\""
   ]
  },
  {
   "cell_type": "code",
   "execution_count": 874,
   "id": "8272aa93-23a9-442e-b831-d0f1998c7c11",
   "metadata": {
    "tags": []
   },
   "outputs": [
    {
     "name": "stderr",
     "output_type": "stream",
     "text": [
      "/var/folders/yx/h7g3cmg55z710gshz7fty5d40000gp/T/ipykernel_87747/2972337964.py:1: SettingWithCopyWarning: \n",
      "A value is trying to be set on a copy of a slice from a DataFrame.\n",
      "Try using .loc[row_indexer,col_indexer] = value instead\n",
      "\n",
      "See the caveats in the documentation: https://pandas.pydata.org/pandas-docs/stable/user_guide/indexing.html#returning-a-view-versus-a-copy\n",
      "  passed_molecules_df['label'] = passed_molecules_df['pIC50'].apply(lambda x: 1 if x >= median_pIC50 else 0)\n"
     ]
    }
   ],
   "source": [
    "passed_molecules_df['label'] = passed_molecules_df['pIC50'].apply(lambda x: 1 if x >= median_pIC50 else 0)"
   ]
  },
  {
   "cell_type": "code",
   "execution_count": 875,
   "id": "ea207dd5-5c1e-40d8-ac58-ab1a6ec6d6bb",
   "metadata": {
    "tags": []
   },
   "outputs": [],
   "source": [
    "output_df['label'] = output_df['pIC50'].apply(lambda x: 1 if x >= median_pIC50 else 0)"
   ]
  },
  {
   "cell_type": "markdown",
   "id": "65364601-9832-4529-9a1b-9dddad09f6b0",
   "metadata": {},
   "source": [
    "### Prepare Training and Testing set for Classification with SVM"
   ]
  },
  {
   "cell_type": "code",
   "execution_count": 876,
   "id": "70cbec89-c7c7-4464-80d8-d70f5df59fd0",
   "metadata": {
    "tags": []
   },
   "outputs": [],
   "source": [
    "Y_cla = passed_molecules_df['label'].values"
   ]
  },
  {
   "cell_type": "code",
   "execution_count": 877,
   "id": "b7fee688-3c61-422f-9070-a2b819371b5d",
   "metadata": {
    "tags": []
   },
   "outputs": [],
   "source": [
    "X_train_cla, X_test_cla, y_train_cla, y_test_cla = train_test_split(X, Y_cla, test_size=0.2, random_state=42)\n"
   ]
  },
  {
   "cell_type": "code",
   "execution_count": 878,
   "id": "eb8c80e3-f854-4889-bf3a-ed56b9718882",
   "metadata": {
    "tags": []
   },
   "outputs": [],
   "source": [
    "svm_model = SVC(kernel='poly', random_state=42)"
   ]
  },
  {
   "cell_type": "code",
   "execution_count": 879,
   "id": "7fe5e581-dfa0-452e-a9a5-879428508568",
   "metadata": {
    "tags": []
   },
   "outputs": [
    {
     "data": {
      "text/html": [
       "<style>#sk-container-id-33 {color: black;}#sk-container-id-33 pre{padding: 0;}#sk-container-id-33 div.sk-toggleable {background-color: white;}#sk-container-id-33 label.sk-toggleable__label {cursor: pointer;display: block;width: 100%;margin-bottom: 0;padding: 0.3em;box-sizing: border-box;text-align: center;}#sk-container-id-33 label.sk-toggleable__label-arrow:before {content: \"▸\";float: left;margin-right: 0.25em;color: #696969;}#sk-container-id-33 label.sk-toggleable__label-arrow:hover:before {color: black;}#sk-container-id-33 div.sk-estimator:hover label.sk-toggleable__label-arrow:before {color: black;}#sk-container-id-33 div.sk-toggleable__content {max-height: 0;max-width: 0;overflow: hidden;text-align: left;background-color: #f0f8ff;}#sk-container-id-33 div.sk-toggleable__content pre {margin: 0.2em;color: black;border-radius: 0.25em;background-color: #f0f8ff;}#sk-container-id-33 input.sk-toggleable__control:checked~div.sk-toggleable__content {max-height: 200px;max-width: 100%;overflow: auto;}#sk-container-id-33 input.sk-toggleable__control:checked~label.sk-toggleable__label-arrow:before {content: \"▾\";}#sk-container-id-33 div.sk-estimator input.sk-toggleable__control:checked~label.sk-toggleable__label {background-color: #d4ebff;}#sk-container-id-33 div.sk-label input.sk-toggleable__control:checked~label.sk-toggleable__label {background-color: #d4ebff;}#sk-container-id-33 input.sk-hidden--visually {border: 0;clip: rect(1px 1px 1px 1px);clip: rect(1px, 1px, 1px, 1px);height: 1px;margin: -1px;overflow: hidden;padding: 0;position: absolute;width: 1px;}#sk-container-id-33 div.sk-estimator {font-family: monospace;background-color: #f0f8ff;border: 1px dotted black;border-radius: 0.25em;box-sizing: border-box;margin-bottom: 0.5em;}#sk-container-id-33 div.sk-estimator:hover {background-color: #d4ebff;}#sk-container-id-33 div.sk-parallel-item::after {content: \"\";width: 100%;border-bottom: 1px solid gray;flex-grow: 1;}#sk-container-id-33 div.sk-label:hover label.sk-toggleable__label {background-color: #d4ebff;}#sk-container-id-33 div.sk-serial::before {content: \"\";position: absolute;border-left: 1px solid gray;box-sizing: border-box;top: 0;bottom: 0;left: 50%;z-index: 0;}#sk-container-id-33 div.sk-serial {display: flex;flex-direction: column;align-items: center;background-color: white;padding-right: 0.2em;padding-left: 0.2em;position: relative;}#sk-container-id-33 div.sk-item {position: relative;z-index: 1;}#sk-container-id-33 div.sk-parallel {display: flex;align-items: stretch;justify-content: center;background-color: white;position: relative;}#sk-container-id-33 div.sk-item::before, #sk-container-id-33 div.sk-parallel-item::before {content: \"\";position: absolute;border-left: 1px solid gray;box-sizing: border-box;top: 0;bottom: 0;left: 50%;z-index: -1;}#sk-container-id-33 div.sk-parallel-item {display: flex;flex-direction: column;z-index: 1;position: relative;background-color: white;}#sk-container-id-33 div.sk-parallel-item:first-child::after {align-self: flex-end;width: 50%;}#sk-container-id-33 div.sk-parallel-item:last-child::after {align-self: flex-start;width: 50%;}#sk-container-id-33 div.sk-parallel-item:only-child::after {width: 0;}#sk-container-id-33 div.sk-dashed-wrapped {border: 1px dashed gray;margin: 0 0.4em 0.5em 0.4em;box-sizing: border-box;padding-bottom: 0.4em;background-color: white;}#sk-container-id-33 div.sk-label label {font-family: monospace;font-weight: bold;display: inline-block;line-height: 1.2em;}#sk-container-id-33 div.sk-label-container {text-align: center;}#sk-container-id-33 div.sk-container {/* jupyter's `normalize.less` sets `[hidden] { display: none; }` but bootstrap.min.css set `[hidden] { display: none !important; }` so we also need the `!important` here to be able to override the default hidden behavior on the sphinx rendered scikit-learn.org. See: https://github.com/scikit-learn/scikit-learn/issues/21755 */display: inline-block !important;position: relative;}#sk-container-id-33 div.sk-text-repr-fallback {display: none;}</style><div id=\"sk-container-id-33\" class=\"sk-top-container\"><div class=\"sk-text-repr-fallback\"><pre>SVC(kernel=&#x27;poly&#x27;, random_state=42)</pre><b>In a Jupyter environment, please rerun this cell to show the HTML representation or trust the notebook. <br />On GitHub, the HTML representation is unable to render, please try loading this page with nbviewer.org.</b></div><div class=\"sk-container\" hidden><div class=\"sk-item\"><div class=\"sk-estimator sk-toggleable\"><input class=\"sk-toggleable__control sk-hidden--visually\" id=\"sk-estimator-id-33\" type=\"checkbox\" checked><label for=\"sk-estimator-id-33\" class=\"sk-toggleable__label sk-toggleable__label-arrow\">SVC</label><div class=\"sk-toggleable__content\"><pre>SVC(kernel=&#x27;poly&#x27;, random_state=42)</pre></div></div></div></div></div>"
      ],
      "text/plain": [
       "SVC(kernel='poly', random_state=42)"
      ]
     },
     "execution_count": 879,
     "metadata": {},
     "output_type": "execute_result"
    }
   ],
   "source": [
    "svm_model.fit(X_train_cla, y_train_cla)"
   ]
  },
  {
   "cell_type": "code",
   "execution_count": 880,
   "id": "bac0ce8b-235e-4c79-9436-a75d8aeed00e",
   "metadata": {
    "tags": []
   },
   "outputs": [],
   "source": [
    "y_pred_cla = svm_model.predict(X_test_cla)"
   ]
  },
  {
   "cell_type": "markdown",
   "id": "20661a37-0fcd-4a60-b8a9-e6ad1f6df1a9",
   "metadata": {},
   "source": [
    "### Calculate Accuracy, MCC and plot confusion matrix"
   ]
  },
  {
   "cell_type": "code",
   "execution_count": 881,
   "id": "cf0e630b-8c39-4931-92e9-1bfa607798fd",
   "metadata": {
    "tags": []
   },
   "outputs": [
    {
     "name": "stdout",
     "output_type": "stream",
     "text": [
      "Accuracy: 0.8761904761904762\n",
      "Classification Report:\n",
      "              precision    recall  f1-score   support\n",
      "\n",
      "           0       0.89      0.82      0.85        93\n",
      "           1       0.86      0.92      0.89       117\n",
      "\n",
      "    accuracy                           0.88       210\n",
      "   macro avg       0.88      0.87      0.87       210\n",
      "weighted avg       0.88      0.88      0.88       210\n",
      "\n",
      "MCC:\n",
      "0.7491463540698075\n"
     ]
    }
   ],
   "source": [
    "accuracy = accuracy_score(y_test_cla, y_pred_cla)\n",
    "print(\"Accuracy:\", accuracy)\n",
    "\n",
    "# Print classification report (includes precision, recall, F1-score, and support)\n",
    "print(\"Classification Report:\")\n",
    "print(classification_report(y_test_cla, y_pred_cla))\n",
    "print(\"MCC:\")\n",
    "print(matthews_corrcoef(y_test_cla, y_pred_cla))"
   ]
  },
  {
   "cell_type": "code",
   "execution_count": 882,
   "id": "54b0e809-ab30-4665-8996-a051e8afe1c3",
   "metadata": {
    "tags": []
   },
   "outputs": [
    {
     "data": {
      "text/plain": [
       "<sklearn.metrics._plot.confusion_matrix.ConfusionMatrixDisplay at 0x2dd9cfc50>"
      ]
     },
     "execution_count": 882,
     "metadata": {},
     "output_type": "execute_result"
    },
    {
     "data": {
      "image/png": "[encoded data removed]",
      "text/plain": [
       "<Figure size 1000x1000 with 2 Axes>"
      ]
     },
     "metadata": {},
     "output_type": "display_data"
    }
   ],
   "source": [
    "ConfusionMatrixDisplay.from_predictions(y_test_cla, y_pred_cla)"
   ]
  },
  {
   "cell_type": "markdown",
   "id": "83f5782a-c6fe-4050-a32d-daabfdb92a54",
   "metadata": {},
   "source": [
    "## Bonus"
   ]
  },
  {
   "cell_type": "markdown",
   "id": "19942662-5142-4538-8625-6db07e3da8de",
   "metadata": {},
   "source": [
    "### Use Chemplot tool to visualise UMAP of the dataset collected in the previous steps."
   ]
  },
  {
   "cell_type": "code",
   "execution_count": 883,
   "id": "abb42a0c-d344-4ca6-92c2-3889db13f597",
   "metadata": {
    "tags": []
   },
   "outputs": [],
   "source": [
    "import chemplot as cp"
   ]
  },
  {
   "cell_type": "code",
   "execution_count": 890,
   "id": "83912d83-c1fd-44b1-9282-8b028f44f17f",
   "metadata": {
    "tags": []
   },
   "outputs": [
    {
     "name": "stdout",
     "output_type": "stream",
     "text": [
      "sim_type indicates the similarity type by which the plots are constructed.\n",
      "The supported similarity types are structural and tailored.\n",
      "Because a target list has been provided 'tailored' as been selected as sym_type.\n"
     ]
    },
    {
     "name": "stderr",
     "output_type": "stream",
     "text": [
      "/Users/mahadgatti/mambaforge/envs/code_example/lib/python3.11/site-packages/sklearn/base.py:457: UserWarning: X has feature names, but SelectFromModel was fitted without feature names\n",
      "  warnings.warn(\n"
     ]
    }
   ],
   "source": [
    "plotter = cp.Plotter.from_smiles(passed_molecules_df[\"smiles\"], target=passed_molecules_df[\"label\"], target_type=\"C\")"
   ]
  },
  {
   "cell_type": "code",
   "execution_count": 891,
   "id": "b9e615a9-dd11-48b3-8ab8-2ec83840bacb",
   "metadata": {},
   "outputs": [
    {
     "data": {
      "text/html": [
       "<div>\n",
       "<style scoped>\n",
       "    .dataframe tbody tr th:only-of-type {\n",
       "        vertical-align: middle;\n",
       "    }\n",
       "\n",
       "    .dataframe tbody tr th {\n",
       "        vertical-align: top;\n",
       "    }\n",
       "\n",
       "    .dataframe thead th {\n",
       "        text-align: right;\n",
       "    }\n",
       "</style>\n",
       "<table border=\"1\" class=\"dataframe\">\n",
       "  <thead>\n",
       "    <tr style=\"text-align: right;\">\n",
       "      <th></th>\n",
       "      <th>UMAP-1</th>\n",
       "      <th>UMAP-2</th>\n",
       "      <th>target</th>\n",
       "    </tr>\n",
       "  </thead>\n",
       "  <tbody>\n",
       "    <tr>\n",
       "      <th>0</th>\n",
       "      <td>11.668729</td>\n",
       "      <td>14.297513</td>\n",
       "      <td>1</td>\n",
       "    </tr>\n",
       "    <tr>\n",
       "      <th>1</th>\n",
       "      <td>11.751845</td>\n",
       "      <td>14.144425</td>\n",
       "      <td>1</td>\n",
       "    </tr>\n",
       "    <tr>\n",
       "      <th>2</th>\n",
       "      <td>11.803387</td>\n",
       "      <td>13.681193</td>\n",
       "      <td>1</td>\n",
       "    </tr>\n",
       "    <tr>\n",
       "      <th>3</th>\n",
       "      <td>12.145895</td>\n",
       "      <td>13.460735</td>\n",
       "      <td>1</td>\n",
       "    </tr>\n",
       "    <tr>\n",
       "      <th>4</th>\n",
       "      <td>12.033220</td>\n",
       "      <td>13.753440</td>\n",
       "      <td>1</td>\n",
       "    </tr>\n",
       "    <tr>\n",
       "      <th>...</th>\n",
       "      <td>...</td>\n",
       "      <td>...</td>\n",
       "      <td>...</td>\n",
       "    </tr>\n",
       "    <tr>\n",
       "      <th>1041</th>\n",
       "      <td>5.872285</td>\n",
       "      <td>-4.688843</td>\n",
       "      <td>0</td>\n",
       "    </tr>\n",
       "    <tr>\n",
       "      <th>1042</th>\n",
       "      <td>5.062535</td>\n",
       "      <td>-6.562875</td>\n",
       "      <td>0</td>\n",
       "    </tr>\n",
       "    <tr>\n",
       "      <th>1043</th>\n",
       "      <td>23.064575</td>\n",
       "      <td>8.387716</td>\n",
       "      <td>0</td>\n",
       "    </tr>\n",
       "    <tr>\n",
       "      <th>1044</th>\n",
       "      <td>8.097570</td>\n",
       "      <td>8.322644</td>\n",
       "      <td>0</td>\n",
       "    </tr>\n",
       "    <tr>\n",
       "      <th>1045</th>\n",
       "      <td>9.437923</td>\n",
       "      <td>8.976795</td>\n",
       "      <td>0</td>\n",
       "    </tr>\n",
       "  </tbody>\n",
       "</table>\n",
       "<p>1046 rows × 3 columns</p>\n",
       "</div>"
      ],
      "text/plain": [
       "         UMAP-1     UMAP-2  target\n",
       "0     11.668729  14.297513       1\n",
       "1     11.751845  14.144425       1\n",
       "2     11.803387  13.681193       1\n",
       "3     12.145895  13.460735       1\n",
       "4     12.033220  13.753440       1\n",
       "...         ...        ...     ...\n",
       "1041   5.872285  -4.688843       0\n",
       "1042   5.062535  -6.562875       0\n",
       "1043  23.064575   8.387716       0\n",
       "1044   8.097570   8.322644       0\n",
       "1045   9.437923   8.976795       0\n",
       "\n",
       "[1046 rows x 3 columns]"
      ]
     },
     "execution_count": 891,
     "metadata": {},
     "output_type": "execute_result"
    }
   ],
   "source": [
    "plotter.umap()"
   ]
  },
  {
   "cell_type": "code",
   "execution_count": 892,
   "id": "410a9b03-ce36-4834-ad69-1bd76b1a98fa",
   "metadata": {
    "tags": []
   },
   "outputs": [
    {
     "data": {
      "text/plain": [
       "<Axes: label='scatter', title={'center': 'UMAP plot'}, xlabel='UMAP-1', ylabel='UMAP-2'>"
      ]
     },
     "execution_count": 892,
     "metadata": {},
     "output_type": "execute_result"
    },
    {
     "data": {
      "image/png": "[encoded data removed]",
      "text/plain": [
       "<Figure size 2000x2000 with 1 Axes>"
      ]
     },
     "metadata": {},
     "output_type": "display_data"
    }
   ],
   "source": [
    "plotter.visualize_plot()\n"
   ]
  },
  {
   "cell_type": "markdown",
   "id": "5413e3ac-2f64-420d-99df-6f5124eec2d0",
   "metadata": {},
   "source": [
    "## If you prefer an interactive plot, uncomment and run the below line"
   ]
  },
  {
   "cell_type": "code",
   "execution_count": 887,
   "id": "2f62d60d-54d5-4db3-bcbb-b3cb7117a9a3",
   "metadata": {
    "tags": []
   },
   "outputs": [],
   "source": [
    "#plotter.interactive_plot(show_plot=True)\n"
   ]
  },
  {
   "cell_type": "code",
   "execution_count": null,
   "id": "03dc0b08-b981-4721-a024-0e4daf5fc1b1",
   "metadata": {
    "tags": []
   },
   "outputs": [],
   "source": []
  },
  {
   "cell_type": "code",
   "execution_count": null,
   "id": "506018e9-5c05-4d23-9097-350626e9a896",
   "metadata": {
    "tags": []
   },
   "outputs": [],
   "source": []
  },
  {
   "cell_type": "code",
   "execution_count": null,
   "id": "b44db86b-dc88-48d8-84da-064d86568c4d",
   "metadata": {},
   "outputs": [],
   "source": []
  },
  {
   "cell_type": "code",
   "execution_count": null,
   "id": "22d3b55d-f277-4a3c-916a-de1d8c9b3883",
   "metadata": {},
   "outputs": [],
   "source": []
  },
  {
   "cell_type": "code",
   "execution_count": null,
   "id": "d19c3561-9678-4a50-b0b7-bb0035eda863",
   "metadata": {},
   "outputs": [],
   "source": []
  },
  {
   "cell_type": "code",
   "execution_count": null,
   "id": "0242cb83-8f71-42b5-8fdb-a5e479c03ffe",
   "metadata": {},
   "outputs": [],
   "source": []
  }
 ],
 "metadata": {
  "kernelspec": {
   "display_name": "Python 3 (ipykernel)",
   "language": "python",
   "name": "python3"
  },
  "language_info": {
   "codemirror_mode": {
    "name": "ipython",
    "version": 3
   },
   "file_extension": ".py",
   "mimetype": "text/x-python",
   "name": "python",
   "nbconvert_exporter": "python",
   "pygments_lexer": "ipython3",
   "version": "3.11.5"
  }
 },
 "nbformat": 4,
 "nbformat_minor": 5
}
